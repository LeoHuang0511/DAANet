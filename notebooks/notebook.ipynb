{
 "cells": [
  {
   "cell_type": "code",
   "execution_count": 1,
   "metadata": {},
   "outputs": [
    {
     "name": "stdout",
     "output_type": "stream",
     "text": [
      "python test_HT21.py --MODEL_PATH /nfs/home/leo0511/Research/DutyMOFA/exp/HT21/02-18_18-40_vgg_NoMultiColumnOffset_HT21_1e-05_0.0001/ep_13_iter_34000_mae_2.959_mse_3.800_seq_MAE_38.841_seq_MSE_38.841_WRAE_59.755_MIAE_5.211_MOAE_7.058.pth --GPU_ID 4\n",
      "python test_HT21.py --MODEL_PATH /nfs/home/leo0511/Research/DutyMOFA/exp/HT21/02-18_18-40_vgg_NoMultiColumnOffset_HT21_1e-05_0.0001/ep_15_iter_38000_mae_3.502_mse_4.632_seq_MAE_10.987_seq_MSE_10.987_WRAE_16.903_MIAE_1.789_MOAE_3.993.pth --GPU_ID 4\n",
      "python test_HT21.py --MODEL_PATH /nfs/home/leo0511/Research/DutyMOFA/exp/HT21/02-18_18-40_vgg_NoMultiColumnOffset_HT21_1e-05_0.0001/ep_17_iter_45000_mae_6.116_mse_7.211_seq_MAE_10.153_seq_MSE_10.153_WRAE_15.619_MIAE_2.248_MOAE_4.370.pth --GPU_ID 4\n",
      "python test_HT21.py --MODEL_PATH /nfs/home/leo0511/Research/DutyMOFA/exp/HT21/02-18_18-40_vgg_NoMultiColumnOffset_HT21_1e-05_0.0001/ep_18_iter_47000_mae_5.898_mse_7.162_seq_MAE_9.994_seq_MSE_9.994_WRAE_15.376_MIAE_2.242_MOAE_3.953.pth --GPU_ID 4\n",
      "python test_HT21.py --MODEL_PATH /nfs/home/leo0511/Research/DutyMOFA/exp/HT21/02-18_18-40_vgg_NoMultiColumnOffset_HT21_1e-05_0.0001/ep_1_iter_1000_mae_477.884_mse_477.910_seq_MAE_1693.586_seq_MSE_1693.586_WRAE_2605.517_MIAE_173.633_MOAE_175.167.pth --GPU_ID 4\n",
      "python test_HT21.py --MODEL_PATH /nfs/home/leo0511/Research/DutyMOFA/exp/HT21/02-18_18-40_vgg_NoMultiColumnOffset_HT21_1e-05_0.0001/ep_1_iter_2000_mae_239.129_mse_239.171_seq_MAE_746.392_seq_MSE_746.392_WRAE_1148.296_MIAE_72.209_MOAE_73.564.pth --GPU_ID 4\n",
      "python test_HT21.py --MODEL_PATH /nfs/home/leo0511/Research/DutyMOFA/exp/HT21/02-18_18-40_vgg_NoMultiColumnOffset_HT21_1e-05_0.0001/ep_2_iter_3000_mae_123.604_mse_123.693_seq_MAE_330.410_seq_MSE_330.410_WRAE_508.323_MIAE_29.389_MOAE_30.791.pth --GPU_ID 4\n",
      "python test_HT21.py --MODEL_PATH /nfs/home/leo0511/Research/DutyMOFA/exp/HT21/02-18_18-40_vgg_NoMultiColumnOffset_HT21_1e-05_0.0001/ep_2_iter_4000_mae_66.763_mse_66.915_seq_MAE_161.307_seq_MSE_161.307_WRAE_248.165_MIAE_13.396_MOAE_14.845.pth --GPU_ID 4\n",
      "python test_HT21.py --MODEL_PATH /nfs/home/leo0511/Research/DutyMOFA/exp/HT21/02-18_18-40_vgg_NoMultiColumnOffset_HT21_1e-05_0.0001/ep_2_iter_5000_mae_32.915_mse_33.221_seq_MAE_71.303_seq_MSE_71.303_WRAE_109.698_MIAE_5.264_MOAE_6.722.pth --GPU_ID 4\n",
      "python test_HT21.py --MODEL_PATH /nfs/home/leo0511/Research/DutyMOFA/exp/HT21/02-18_18-40_vgg_NoMultiColumnOffset_HT21_1e-05_0.0001/ep_3_iter_6000_mae_19.132_mse_19.653_seq_MAE_50.676_seq_MSE_50.676_WRAE_77.963_MIAE_4.242_MOAE_5.822.pth --GPU_ID 4\n",
      "python test_HT21.py --MODEL_PATH /nfs/home/leo0511/Research/DutyMOFA/exp/HT21/02-18_18-40_vgg_NoMultiColumnOffset_HT21_1e-05_0.0001/ep_3_iter_7000_mae_10.674_mse_11.598_seq_MAE_22.474_seq_MSE_22.474_WRAE_34.575_MIAE_1.355_MOAE_2.878.pth --GPU_ID 4\n",
      "python test_HT21.py --MODEL_PATH /nfs/home/leo0511/Research/DutyMOFA/exp/HT21/02-18_18-40_vgg_NoMultiColumnOffset_HT21_1e-05_0.0001/ep_4_iter_8000_mae_8.475_mse_9.337_seq_MAE_33.585_seq_MSE_33.585_WRAE_51.669_MIAE_3.309_MOAE_4.629.pth --GPU_ID 4\n",
      "python test_HT21.py --MODEL_PATH /nfs/home/leo0511/Research/DutyMOFA/exp/HT21/02-18_18-40_vgg_NoMultiColumnOffset_HT21_1e-05_0.0001/ep_4_iter_9000_mae_6.990_mse_7.546_seq_MAE_28.562_seq_MSE_28.562_WRAE_43.942_MIAE_2.857_MOAE_3.986.pth --GPU_ID 4\n",
      "python test_HT21.py --MODEL_PATH /nfs/home/leo0511/Research/DutyMOFA/exp/HT21/02-18_18-40_vgg_NoMultiColumnOffset_HT21_1e-05_0.0001/ep_5_iter_11000_mae_4.101_mse_4.638_seq_MAE_25.793_seq_MSE_25.793_WRAE_39.681_MIAE_2.892_MOAE_4.246.pth --GPU_ID 4\n",
      "python test_HT21.py --MODEL_PATH /nfs/home/leo0511/Research/DutyMOFA/exp/HT21/02-18_18-40_vgg_NoMultiColumnOffset_HT21_1e-05_0.0001/ep_5_iter_12000_mae_3.614_mse_4.184_seq_MAE_27.806_seq_MSE_27.806_WRAE_42.778_MIAE_3.250_MOAE_5.019.pth --GPU_ID 4\n",
      "python test_HT21.py --MODEL_PATH /nfs/home/leo0511/Research/DutyMOFA/exp/HT21/02-18_18-40_vgg_NoMultiColumnOffset_HT21_1e-05_0.0001/ep_5_iter_13000_mae_3.020_mse_3.897_seq_MAE_25.245_seq_MSE_25.245_WRAE_38.839_MIAE_3.096_MOAE_4.786.pth --GPU_ID 4\n",
      "python test_HT21.py --MODEL_PATH /nfs/home/leo0511/Research/DutyMOFA/exp/HT21/02-18_18-40_vgg_NoMultiColumnOffset_HT21_1e-05_0.0001/ep_6_iter_15000_mae_4.775_mse_5.117_seq_MAE_21.107_seq_MSE_21.107_WRAE_32.472_MIAE_2.173_MOAE_3.772.pth --GPU_ID 4\n",
      "python test_HT21.py --MODEL_PATH /nfs/home/leo0511/Research/DutyMOFA/exp/HT21/02-18_18-40_vgg_NoMultiColumnOffset_HT21_1e-05_0.0001/ep_7_iter_16000_mae_2.996_mse_4.002_seq_MAE_22.083_seq_MSE_22.083_WRAE_33.974_MIAE_2.823_MOAE_4.285.pth --GPU_ID 4\n",
      "python test_HT21.py --MODEL_PATH /nfs/home/leo0511/Research/DutyMOFA/exp/HT21/02-18_18-40_vgg_NoMultiColumnOffset_HT21_1e-05_0.0001/ep_7_iter_18000_mae_3.150_mse_3.741_seq_MAE_22.444_seq_MSE_22.444_WRAE_34.530_MIAE_2.745_MOAE_4.417.pth --GPU_ID 4\n",
      "python test_HT21.py --MODEL_PATH /nfs/home/leo0511/Research/DutyMOFA/exp/HT21/02-18_18-40_vgg_NoMultiColumnOffset_HT21_1e-05_0.0001/ep_9_iter_22000_mae_3.811_mse_4.275_seq_MAE_18.930_seq_MSE_18.930_WRAE_29.124_MIAE_2.079_MOAE_3.367.pth --GPU_ID 4\n",
      "python test_HT21.py --MODEL_PATH /nfs/home/leo0511/Research/DutyMOFA/exp/HT21/02-18_18-40_vgg_NoMultiColumnOffset_HT21_1e-05_0.0001/ep_9_iter_23000_mae_3.371_mse_4.033_seq_MAE_12.310_seq_MSE_12.310_WRAE_18.939_MIAE_1.757_MOAE_2.913.pth --GPU_ID 4\n"
     ]
    }
   ],
   "source": [
    "import glob\n",
    "dataset = \"HT21\"\n",
    "exp = \"02-18_18-40_vgg_NoMultiColumnOffset_HT21_1e-05_0.0001\"\n",
    "device = \"\"\n",
    "gpu = 4\n",
    "\n",
    "if device == \"TWCC\":\n",
    "    gpu = 0\n",
    "\n",
    "    root = \"/home/leohuang0511\"\n",
    "else:\n",
    "    root = \"/nfs/home/leo0511/Research\"\n",
    "files = sorted(glob.glob(f\"{root}/DutyMOFA/exp/{dataset}/{exp}/ep*\"))\n",
    "for file in files:\n",
    "    print(f\"python test_{dataset}.py --MODEL_PATH {file} --GPU_ID {gpu}\")"
   ]
  },
  {
   "cell_type": "code",
   "execution_count": 1,
   "metadata": {},
   "outputs": [],
   "source": [
    "import torch\n",
    "import argparse\n",
    "from importlib import import_module\n",
    "\n",
    "\n",
    "parser = argparse.ArgumentParser()\n",
    "parser.add_argument('--EXP_NAME', type=str, default='')\n",
    "\n",
    "parser.add_argument('--RESUME_PATH',type=str, default='')\n",
    "parser.add_argument('--PRETRAIN_PATH',type=str, default='')\n",
    "parser.add_argument('--FROZEN', default=False, action='store_true', help=\"frozen pretrained frontend weights\")\n",
    "\n",
    "\n",
    "parser.add_argument('--GPU_ID', type=str, default='0')\n",
    "parser.add_argument('--SEED', type=int, default=3035)\n",
    "parser.add_argument('--DATASET', type=str, default='HT21')\n",
    "parser.add_argument('--TASK', type=str, default='FT')\n",
    "parser.add_argument('--PRINT_FREQ', type=int, default=20)\n",
    "parser.add_argument('--SAVE_VIS_FREQ', type=int, default=500)\n",
    "parser.add_argument('--BACKBONE', type=str, default='vgg')\n",
    "\n",
    "\n",
    "parser.add_argument('--LR_MIN', type=float, default=1e-6)\n",
    "parser.add_argument('--LR_BASE', type=float, default=5e-5, help='density branch')\n",
    "parser.add_argument('--LR_THRE', type=float, default=1e-4, help='mask branch')\n",
    "parser.add_argument('--LR_DECAY', type=float, default=0.95)\n",
    "parser.add_argument('--WEIGHT_DECAY', type=float, default=1e-5)\n",
    "parser.add_argument('--WARMUP_EPOCH', type=int, default=3, help='number of epochs for warm up step in cosine annealing lr scheduler')\n",
    "parser.add_argument('--MAX_EPOCH', type=int, default=20)\n",
    "parser.add_argument('--WORKER', type=int, default=4)\n",
    "\n",
    "\n",
    "parser.add_argument('--CON_WEIGHT', type=float, default=0.5)\n",
    "parser.add_argument('--SCALE_WEIGHT', type=float, nargs='+', default=[2,0.1,0.01])\n",
    "parser.add_argument('--CNT_WEIGHT', type=float, default=10)\n",
    "parser.add_argument('--MASK_WEIGHT', type=float, default=1)\n",
    "parser.add_argument('--IO_WEIGHT', type=float, default=1)\n",
    "\n",
    "\n",
    "\n",
    "\n",
    "#_test or val\n",
    "parser.add_argument('--VAL_FREQ', type=int, default=1000)\n",
    "parser.add_argument('--VAL_START', type=int, default=1)\n",
    "parser.add_argument('--VAL_BATCH_SIZE', type=int, default=1)\n",
    "\n",
    "\n",
    "\n",
    "#_train\n",
    "parser.add_argument('--TRAIN_SIZE', type=int, nargs='+', default=[768,1024])\n",
    "parser.add_argument('--TRAIN_FRAME_INTERVALS', type=int, nargs='+', default=[40, 85])\n",
    "parser.add_argument('--TRAIN_BATCH_SIZE', type=int, default=2)\n",
    "parser.add_argument('--ROI_RADIUS', type=float, default=4.)\n",
    "parser.add_argument('--FEATURE_SCALE', type=float, default=1/4.)\n",
    "parser.add_argument('--GAUSSIAN_SIGMA', type=float, default=4)\n",
    "parser.add_argument('--CONF_BLOCK_SIZE', type=int, default=16)\n",
    "\n",
    "\n",
    "\n",
    "\n",
    "#_shift pretrain\n",
    "parser.add_argument('--WIN_OFFSET_RANGE', type=int, nargs='+', default=[100,350])\n",
    "parser.add_argument('--IMG_OFFSET_RANGE', type=int, nargs='+', default=[-100,100])\n",
    "\n",
    "\n",
    "parser.add_argument('--DEN_FACTOR', type=float, default=200.)\n",
    "parser.add_argument('--MEAN_STD', type=tuple, default=([0.485, 0.456, 0.406], [0.229, 0.224, 0.225]))\n",
    "\n",
    "# cfg = parser.parse_args()\n",
    "cfg = parser.parse_known_args()[0]\n",
    "\n",
    "\n",
    "# data_mode = cfg.DATASET\n",
    "# datasetting = import_module(f'datasets.setting.{data_mode}')\n",
    "# cfg_data = datasetting.cfg_data\n",
    "cfg_data = cfg\n",
    "\n"
   ]
  },
  {
   "cell_type": "code",
   "execution_count": 10,
   "metadata": {},
   "outputs": [
    {
     "name": "stdout",
     "output_type": "stream",
     "text": [
      "Number of parameter: 0.16M\n"
     ]
    }
   ],
   "source": [
    "import sys\n",
    "sys.path.append('..')\n",
    "from model.SMDCA import  SMDCANet\n",
    "\n",
    "model = SMDCANet(cfg, cfg_data).Extractor.scale_loc_head\n",
    "total = sum([param.nelement() for param in model.parameters()])\n",
    "print(\"Number of parameter: %.2fM\" % (total/1e6))"
   ]
  },
  {
   "cell_type": "code",
   "execution_count": 5,
   "metadata": {},
   "outputs": [
    {
     "ename": "ModuleNotFoundError",
     "evalue": "No module named 'misc'",
     "output_type": "error",
     "traceback": [
      "\u001b[0;31m---------------------------------------------------------------------------\u001b[0m",
      "\u001b[0;31mModuleNotFoundError\u001b[0m                       Traceback (most recent call last)",
      "Cell \u001b[0;32mIn [5], line 4\u001b[0m\n\u001b[1;32m      1\u001b[0m \u001b[38;5;28;01mimport\u001b[39;00m \u001b[38;5;21;01msys\u001b[39;00m\n\u001b[1;32m      2\u001b[0m sys\u001b[38;5;241m.\u001b[39mpath\u001b[38;5;241m.\u001b[39mappend(\u001b[38;5;124m'\u001b[39m\u001b[38;5;124m../../../\u001b[39m\u001b[38;5;124m'\u001b[39m)\n\u001b[0;32m----> 4\u001b[0m \u001b[38;5;28;01mfrom\u001b[39;00m \u001b[38;5;21;01mFMDC\u001b[39;00m\u001b[38;5;21;01m.\u001b[39;00m\u001b[38;5;21;01mmodel\u001b[39;00m\u001b[38;5;21;01m.\u001b[39;00m\u001b[38;5;21;01mvideo_crowd_count\u001b[39;00m \u001b[38;5;28;01mimport\u001b[39;00m  video_crowd_count\n\u001b[1;32m      5\u001b[0m sys\u001b[38;5;241m.\u001b[39mpath\u001b[38;5;241m.\u001b[39mappend(\u001b[38;5;124m'\u001b[39m\u001b[38;5;124m./FMDC\u001b[39m\u001b[38;5;124m'\u001b[39m)\n\u001b[1;32m      8\u001b[0m model \u001b[38;5;241m=\u001b[39m video_crowd_count(cfg, cfg_data)\n",
      "File \u001b[0;32m~/Research/SSSP/src/notebooks/../../../FMDC/model/video_crowd_count.py:5\u001b[0m\n\u001b[1;32m      3\u001b[0m \u001b[38;5;28;01mimport\u001b[39;00m \u001b[38;5;21;01mtorch\u001b[39;00m\u001b[38;5;21;01m.\u001b[39;00m\u001b[38;5;21;01mnn\u001b[39;00m\u001b[38;5;21;01m.\u001b[39;00m\u001b[38;5;21;01mfunctional\u001b[39;00m \u001b[38;5;28;01mas\u001b[39;00m \u001b[38;5;21;01mF\u001b[39;00m\n\u001b[1;32m      4\u001b[0m \u001b[38;5;28;01mimport\u001b[39;00m \u001b[38;5;21;01mnumpy\u001b[39;00m \u001b[38;5;28;01mas\u001b[39;00m \u001b[38;5;21;01mnp\u001b[39;00m\n\u001b[0;32m----> 5\u001b[0m \u001b[38;5;28;01mfrom\u001b[39;00m \u001b[38;5;21;01m.\u001b[39;00m\u001b[38;5;21;01mVGG\u001b[39;00m\u001b[38;5;21;01m.\u001b[39;00m\u001b[38;5;21;01mVGG16_FPN\u001b[39;00m \u001b[38;5;28;01mimport\u001b[39;00m VGG16_FPN\n\u001b[1;32m      6\u001b[0m \u001b[38;5;28;01mfrom\u001b[39;00m \u001b[38;5;21;01m.\u001b[39;00m\u001b[38;5;21;01moptical_deformable_module\u001b[39;00m \u001b[38;5;28;01mimport\u001b[39;00m optical_deformable_alignment_module\n\u001b[1;32m      7\u001b[0m \u001b[38;5;28;01mfrom\u001b[39;00m \u001b[38;5;21;01m.\u001b[39;00m\u001b[38;5;21;01munimatch\u001b[39;00m \u001b[38;5;28;01mimport\u001b[39;00m UniMatch\n",
      "File \u001b[0;32m~/Research/SSSP/src/notebooks/../../../FMDC/model/VGG/VGG16_FPN.py:4\u001b[0m\n\u001b[1;32m      2\u001b[0m \u001b[38;5;28;01mimport\u001b[39;00m \u001b[38;5;21;01msys\u001b[39;00m\n\u001b[1;32m      3\u001b[0m \u001b[38;5;28;01mimport\u001b[39;00m \u001b[38;5;21;01mtorch\u001b[39;00m\u001b[38;5;21;01m.\u001b[39;00m\u001b[38;5;21;01mnn\u001b[39;00m\u001b[38;5;21;01m.\u001b[39;00m\u001b[38;5;21;01mfunctional\u001b[39;00m \u001b[38;5;28;01mas\u001b[39;00m \u001b[38;5;21;01mF\u001b[39;00m\n\u001b[0;32m----> 4\u001b[0m \u001b[38;5;28;01mfrom\u001b[39;00m \u001b[38;5;21;01mmisc\u001b[39;00m\u001b[38;5;21;01m.\u001b[39;00m\u001b[38;5;21;01mutils\u001b[39;00m \u001b[38;5;28;01mimport\u001b[39;00m \u001b[38;5;241m*\u001b[39m\n\u001b[1;32m      5\u001b[0m \u001b[38;5;28;01mfrom\u001b[39;00m \u001b[38;5;21;01mmisc\u001b[39;00m\u001b[38;5;21;01m.\u001b[39;00m\u001b[38;5;21;01mlayer\u001b[39;00m \u001b[38;5;28;01mimport\u001b[39;00m \u001b[38;5;241m*\u001b[39m\n\u001b[1;32m      6\u001b[0m \u001b[38;5;28;01mfrom\u001b[39;00m \u001b[38;5;21;01mtorchsummary\u001b[39;00m \u001b[38;5;28;01mimport\u001b[39;00m summary\n",
      "\u001b[0;31mModuleNotFoundError\u001b[0m: No module named 'misc'"
     ]
    }
   ],
   "source": [
    "import sys\n",
    "sys.path.append('../../../')\n",
    "\n",
    "from FMDC.model.video_crowd_count import  video_crowd_count\n",
    "sys.path.append('./FMDC')\n",
    "\n",
    "\n",
    "model = video_crowd_count(cfg, cfg_data)\n",
    "total = sum([param.nelement() for param in model.parameters()])\n",
    "print(\"Number of parameter: %.2fM\" % (total/1e6))"
   ]
  },
  {
   "cell_type": "code",
   "execution_count": 8,
   "metadata": {},
   "outputs": [
    {
     "name": "stdout",
     "output_type": "stream",
     "text": [
      "[INFO] Register count_convNd() for <class 'torch.nn.modules.conv.Conv2d'>.\n",
      "[INFO] Register count_normalization() for <class 'torch.nn.modules.batchnorm.BatchNorm2d'>.\n",
      "[INFO] Register zero_ops() for <class 'torch.nn.modules.activation.ReLU'>.\n",
      "[INFO] Register zero_ops() for <class 'torch.nn.modules.pooling.MaxPool2d'>.\n",
      "[INFO] Register zero_ops() for <class 'torch.nn.modules.container.Sequential'>.\n",
      "[INFO] Register count_convNd() for <class 'torch.nn.modules.conv.ConvTranspose2d'>.\n",
      "[INFO] Register count_normalization() for <class 'torch.nn.modules.instancenorm.InstanceNorm2d'>.\n",
      "[INFO] Register count_linear() for <class 'torch.nn.modules.linear.Linear'>.\n",
      "[INFO] Register count_normalization() for <class 'torch.nn.modules.normalization.LayerNorm'>.\n"
     ]
    },
    {
     "ename": "TypeError",
     "evalue": "video_crowd_count.forward() missing 2 required positional arguments: 'img_rgb' and 'target'",
     "output_type": "error",
     "traceback": [
      "\u001b[0;31m---------------------------------------------------------------------------\u001b[0m",
      "\u001b[0;31mTypeError\u001b[0m                                 Traceback (most recent call last)",
      "Cell \u001b[0;32mIn[8], line 4\u001b[0m\n\u001b[1;32m      2\u001b[0m \u001b[38;5;28;01mfrom\u001b[39;00m \u001b[38;5;21;01mthop\u001b[39;00m \u001b[38;5;28;01mimport\u001b[39;00m profile \n\u001b[1;32m      3\u001b[0m \u001b[38;5;28minput\u001b[39m \u001b[38;5;241m=\u001b[39m torch\u001b[38;5;241m.\u001b[39mrandn(\u001b[38;5;241m4\u001b[39m, \u001b[38;5;241m3\u001b[39m, \u001b[38;5;241m768\u001b[39m, \u001b[38;5;241m1024\u001b[39m)\n\u001b[0;32m----> 4\u001b[0m flops, params \u001b[38;5;241m=\u001b[39m \u001b[43mprofile\u001b[49m\u001b[43m(\u001b[49m\u001b[43mmodel\u001b[49m\u001b[43m,\u001b[49m\u001b[43m \u001b[49m\u001b[43minputs\u001b[49m\u001b[38;5;241;43m=\u001b[39;49m\u001b[43m(\u001b[49m\u001b[38;5;28;43minput\u001b[39;49m\u001b[43m,\u001b[49m\u001b[43m)\u001b[49m\u001b[43m)\u001b[49m\n\u001b[1;32m      5\u001b[0m \u001b[38;5;28mprint\u001b[39m(flops)\n\u001b[1;32m      6\u001b[0m \u001b[38;5;28mprint\u001b[39m(params)\n",
      "File \u001b[0;32m~/.local/lib/python3.10/site-packages/thop/profile.py:212\u001b[0m, in \u001b[0;36mprofile\u001b[0;34m(model, inputs, custom_ops, verbose, ret_layer_info, report_missing)\u001b[0m\n\u001b[1;32m    209\u001b[0m model\u001b[38;5;241m.\u001b[39mapply(add_hooks)\n\u001b[1;32m    211\u001b[0m \u001b[38;5;28;01mwith\u001b[39;00m torch\u001b[38;5;241m.\u001b[39mno_grad():\n\u001b[0;32m--> 212\u001b[0m     \u001b[43mmodel\u001b[49m\u001b[43m(\u001b[49m\u001b[38;5;241;43m*\u001b[39;49m\u001b[43minputs\u001b[49m\u001b[43m)\u001b[49m\n\u001b[1;32m    214\u001b[0m \u001b[38;5;28;01mdef\u001b[39;00m \u001b[38;5;21mdfs_count\u001b[39m(module: nn\u001b[38;5;241m.\u001b[39mModule, prefix\u001b[38;5;241m=\u001b[39m\u001b[38;5;124m\"\u001b[39m\u001b[38;5;130;01m\\t\u001b[39;00m\u001b[38;5;124m\"\u001b[39m) \u001b[38;5;241m-\u001b[39m\u001b[38;5;241m>\u001b[39m (\u001b[38;5;28mint\u001b[39m, \u001b[38;5;28mint\u001b[39m):\n\u001b[1;32m    215\u001b[0m     total_ops, total_params \u001b[38;5;241m=\u001b[39m module\u001b[38;5;241m.\u001b[39mtotal_ops\u001b[38;5;241m.\u001b[39mitem(), \u001b[38;5;241m0\u001b[39m\n",
      "File \u001b[0;32m/usr/local/lib/python3.10/dist-packages/torch/nn/modules/module.py:1505\u001b[0m, in \u001b[0;36mModule._wrapped_call_impl\u001b[0;34m(self, *args, **kwargs)\u001b[0m\n\u001b[1;32m   1503\u001b[0m     \u001b[38;5;28;01mreturn\u001b[39;00m \u001b[38;5;28mself\u001b[39m\u001b[38;5;241m.\u001b[39m_compiled_call_impl(\u001b[38;5;241m*\u001b[39margs, \u001b[38;5;241m*\u001b[39m\u001b[38;5;241m*\u001b[39mkwargs)  \u001b[38;5;66;03m# type: ignore[misc]\u001b[39;00m\n\u001b[1;32m   1504\u001b[0m \u001b[38;5;28;01melse\u001b[39;00m:\n\u001b[0;32m-> 1505\u001b[0m     \u001b[38;5;28;01mreturn\u001b[39;00m \u001b[38;5;28;43mself\u001b[39;49m\u001b[38;5;241;43m.\u001b[39;49m\u001b[43m_call_impl\u001b[49m\u001b[43m(\u001b[49m\u001b[38;5;241;43m*\u001b[39;49m\u001b[43margs\u001b[49m\u001b[43m,\u001b[49m\u001b[43m \u001b[49m\u001b[38;5;241;43m*\u001b[39;49m\u001b[38;5;241;43m*\u001b[39;49m\u001b[43mkwargs\u001b[49m\u001b[43m)\u001b[49m\n",
      "File \u001b[0;32m/usr/local/lib/python3.10/dist-packages/torch/nn/modules/module.py:1514\u001b[0m, in \u001b[0;36mModule._call_impl\u001b[0;34m(self, *args, **kwargs)\u001b[0m\n\u001b[1;32m   1509\u001b[0m \u001b[38;5;66;03m# If we don't have any hooks, we want to skip the rest of the logic in\u001b[39;00m\n\u001b[1;32m   1510\u001b[0m \u001b[38;5;66;03m# this function, and just call forward.\u001b[39;00m\n\u001b[1;32m   1511\u001b[0m \u001b[38;5;28;01mif\u001b[39;00m \u001b[38;5;129;01mnot\u001b[39;00m (\u001b[38;5;28mself\u001b[39m\u001b[38;5;241m.\u001b[39m_backward_hooks \u001b[38;5;129;01mor\u001b[39;00m \u001b[38;5;28mself\u001b[39m\u001b[38;5;241m.\u001b[39m_backward_pre_hooks \u001b[38;5;129;01mor\u001b[39;00m \u001b[38;5;28mself\u001b[39m\u001b[38;5;241m.\u001b[39m_forward_hooks \u001b[38;5;129;01mor\u001b[39;00m \u001b[38;5;28mself\u001b[39m\u001b[38;5;241m.\u001b[39m_forward_pre_hooks\n\u001b[1;32m   1512\u001b[0m         \u001b[38;5;129;01mor\u001b[39;00m _global_backward_pre_hooks \u001b[38;5;129;01mor\u001b[39;00m _global_backward_hooks\n\u001b[1;32m   1513\u001b[0m         \u001b[38;5;129;01mor\u001b[39;00m _global_forward_hooks \u001b[38;5;129;01mor\u001b[39;00m _global_forward_pre_hooks):\n\u001b[0;32m-> 1514\u001b[0m     \u001b[38;5;28;01mreturn\u001b[39;00m \u001b[43mforward_call\u001b[49m\u001b[43m(\u001b[49m\u001b[38;5;241;43m*\u001b[39;49m\u001b[43margs\u001b[49m\u001b[43m,\u001b[49m\u001b[43m \u001b[49m\u001b[38;5;241;43m*\u001b[39;49m\u001b[38;5;241;43m*\u001b[39;49m\u001b[43mkwargs\u001b[49m\u001b[43m)\u001b[49m\n\u001b[1;32m   1515\u001b[0m \u001b[38;5;66;03m# Do not call functions when jit is used\u001b[39;00m\n\u001b[1;32m   1516\u001b[0m full_backward_hooks, non_full_backward_hooks \u001b[38;5;241m=\u001b[39m [], []\n",
      "\u001b[0;31mTypeError\u001b[0m: video_crowd_count.forward() missing 2 required positional arguments: 'img_rgb' and 'target'"
     ]
    }
   ],
   "source": [
    "import thop\n",
    "from thop import profile \n",
    "input = torch.randn(4, 3, 768, 1024)\n",
    "flops, params = profile(model, inputs=(input,))\n",
    "print(flops)\n",
    "print(params)"
   ]
  },
  {
   "cell_type": "code",
   "execution_count": 24,
   "metadata": {},
   "outputs": [],
   "source": [
    "from torchvision import models\n",
    "import torch.nn as nn\n",
    "\n",
    "swin = models.swin_b(weights='Swin_B_Weights.IMAGENET1K_V1')\n",
    "features = list(swin.features.children())\n",
    "layer1 = nn.Sequential(*features[0:2])\n",
    "layer2 = nn.Sequential(*features[2:4])\n",
    "layer3 = nn.Sequential(*features[4:6])\n"
   ]
  },
  {
   "cell_type": "code",
   "execution_count": 26,
   "metadata": {},
   "outputs": [
    {
     "name": "stdout",
     "output_type": "stream",
     "text": [
      "torch.Size([4, 192, 256, 128])\n",
      "torch.Size([4, 96, 128, 256])\n",
      "torch.Size([4, 48, 64, 512])\n"
     ]
    }
   ],
   "source": [
    "import torch\n",
    "\n",
    "x  = torch.zeros((4,3,768,1024))\n",
    "x = layer1(x)\n",
    "print(x.shape)\n",
    "x = layer2(x)\n",
    "print(x.shape)\n",
    "x = layer3(x)\n",
    "print(x.shape)"
   ]
  },
  {
   "cell_type": "code",
   "execution_count": 19,
   "metadata": {},
   "outputs": [
    {
     "data": {
      "text/plain": [
       "8"
      ]
     },
     "execution_count": 19,
     "metadata": {},
     "output_type": "execute_result"
    }
   ],
   "source": [
    "len(features)"
   ]
  },
  {
   "cell_type": "code",
   "execution_count": null,
   "metadata": {},
   "outputs": [],
   "source": []
  }
 ],
 "metadata": {
  "kernelspec": {
   "display_name": "Python 3 (ipykernel)",
   "language": "python",
   "name": "python3"
  },
  "language_info": {
   "codemirror_mode": {
    "name": "ipython",
    "version": 3
   },
   "file_extension": ".py",
   "mimetype": "text/x-python",
   "name": "python",
   "nbconvert_exporter": "python",
   "pygments_lexer": "ipython3",
   "version": "3.8.10"
  }
 },
 "nbformat": 4,
 "nbformat_minor": 2
}
