{
 "cells": [
  {
   "cell_type": "code",
   "execution_count": 1,
   "metadata": {},
   "outputs": [
    {
     "name": "stdout",
     "output_type": "stream",
     "text": [
      "python test_SENSE.py --model_path /nfs/home/leo0511/Research/SSSP/exp/SENSE/FT/12-06_17-46_twcc_con50_all_SENSE_5e-05/ep_10_iter_142000_mae_6.671_mse_8.385_seq_MAE_16.673_WRAE_38.277_MIAE_1.428_MOAE_1.422.pth --GPU_ID 5\n",
      "python test_SENSE.py --model_path /nfs/home/leo0511/Research/SSSP/exp/SENSE/FT/12-06_17-46_twcc_con50_all_SENSE_5e-05/ep_10_iter_146000_mae_5.970_mse_8.089_seq_MAE_8.848_WRAE_17.820_MIAE_1.140_MOAE_1.222.pth --GPU_ID 5\n",
      "python test_SENSE.py --model_path /nfs/home/leo0511/Research/SSSP/exp/SENSE/FT/12-06_17-46_twcc_con50_all_SENSE_5e-05/ep_10_iter_150000_mae_5.947_mse_7.916_seq_MAE_10.970_WRAE_25.224_MIAE_1.195_MOAE_1.195.pth --GPU_ID 5\n",
      "python test_SENSE.py --model_path /nfs/home/leo0511/Research/SSSP/exp/SENSE/FT/12-06_17-46_twcc_con50_all_SENSE_5e-05/ep_11_iter_158000_mae_5.892_mse_7.933_seq_MAE_10.999_WRAE_23.962_MIAE_1.201_MOAE_1.215.pth --GPU_ID 5\n",
      "python test_SENSE.py --model_path /nfs/home/leo0511/Research/SSSP/exp/SENSE/FT/12-06_17-46_twcc_con50_all_SENSE_5e-05/ep_11_iter_162000_mae_5.767_mse_7.398_seq_MAE_11.433_WRAE_25.866_MIAE_1.223_MOAE_1.209.pth --GPU_ID 5\n",
      "python test_SENSE.py --model_path /nfs/home/leo0511/Research/SSSP/exp/SENSE/FT/12-06_17-46_twcc_con50_all_SENSE_5e-05/ep_11_iter_167000_mae_8.770_mse_11.054_seq_MAE_12.937_WRAE_27.764_MIAE_1.179_MOAE_1.181.pth --GPU_ID 5\n",
      "python test_SENSE.py --model_path /nfs/home/leo0511/Research/SSSP/exp/SENSE/FT/12-06_17-46_twcc_con50_all_SENSE_5e-05/ep_12_iter_184000_mae_8.060_mse_9.660_seq_MAE_11.567_WRAE_26.396_MIAE_1.169_MOAE_1.165.pth --GPU_ID 5\n",
      "python test_SENSE.py --model_path /nfs/home/leo0511/Research/SSSP/exp/SENSE/FT/12-06_17-46_twcc_con50_all_SENSE_5e-05/ep_14_iter_205000_mae_8.015_mse_10.008_seq_MAE_11.540_WRAE_25.916_MIAE_1.134_MOAE_1.165.pth --GPU_ID 5\n",
      "python test_SENSE.py --model_path /nfs/home/leo0511/Research/SSSP/exp/SENSE/FT/12-06_17-46_twcc_con50_all_SENSE_5e-05/ep_16_iter_240000_mae_6.480_mse_8.722_seq_MAE_9.900_WRAE_21.723_MIAE_1.155_MOAE_1.143.pth --GPU_ID 5\n",
      "python test_SENSE.py --model_path /nfs/home/leo0511/Research/SSSP/exp/SENSE/FT/12-06_17-46_twcc_con50_all_SENSE_5e-05/ep_16_iter_242000_mae_5.282_mse_7.388_seq_MAE_10.473_WRAE_21.127_MIAE_1.224_MOAE_1.192.pth --GPU_ID 5\n",
      "python test_SENSE.py --model_path /nfs/home/leo0511/Research/SSSP/exp/SENSE/FT/12-06_17-46_twcc_con50_all_SENSE_5e-05/ep_16_iter_244000_mae_5.264_mse_8.058_seq_MAE_8.596_WRAE_17.536_MIAE_1.126_MOAE_1.162.pth --GPU_ID 5\n",
      "python test_SENSE.py --model_path /nfs/home/leo0511/Research/SSSP/exp/SENSE/FT/12-06_17-46_twcc_con50_all_SENSE_5e-05/ep_17_iter_259000_mae_7.582_mse_9.778_seq_MAE_10.171_WRAE_23.553_MIAE_1.126_MOAE_1.157.pth --GPU_ID 5\n",
      "python test_SENSE.py --model_path /nfs/home/leo0511/Research/SSSP/exp/SENSE/FT/12-06_17-46_twcc_con50_all_SENSE_5e-05/ep_18_iter_275000_mae_6.360_mse_8.870_seq_MAE_8.069_WRAE_18.373_MIAE_1.122_MOAE_1.143.pth --GPU_ID 5\n",
      "python test_SENSE.py --model_path /nfs/home/leo0511/Research/SSSP/exp/SENSE/FT/12-06_17-46_twcc_con50_all_SENSE_5e-05/ep_19_iter_291000_mae_5.553_mse_7.271_seq_MAE_9.733_WRAE_20.380_MIAE_1.178_MOAE_1.156.pth --GPU_ID 5\n",
      "python test_SENSE.py --model_path /nfs/home/leo0511/Research/SSSP/exp/SENSE/FT/12-06_17-46_twcc_con50_all_SENSE_5e-05/ep_19_iter_296000_mae_6.962_mse_8.926_seq_MAE_10.101_WRAE_23.246_MIAE_1.141_MOAE_1.141.pth --GPU_ID 5\n",
      "python test_SENSE.py --model_path /nfs/home/leo0511/Research/SSSP/exp/SENSE/FT/12-06_17-46_twcc_con50_all_SENSE_5e-05/ep_1_iter_10000_mae_30.858_mse_33.623_seq_MAE_32.675_WRAE_92.001_MIAE_1.361_MOAE_1.462.pth --GPU_ID 5\n",
      "python test_SENSE.py --model_path /nfs/home/leo0511/Research/SSSP/exp/SENSE/FT/12-06_17-46_twcc_con50_all_SENSE_5e-05/ep_1_iter_1000_mae_16.053_mse_24.906_seq_MAE_35.477_WRAE_100.114_MIAE_3.162_MOAE_3.100.pth --GPU_ID 5\n",
      "python test_SENSE.py --model_path /nfs/home/leo0511/Research/SSSP/exp/SENSE/FT/12-06_17-46_twcc_con50_all_SENSE_5e-05/ep_1_iter_11000_mae_25.730_mse_28.113_seq_MAE_26.495_WRAE_72.002_MIAE_1.325_MOAE_1.420.pth --GPU_ID 5\n",
      "python test_SENSE.py --model_path /nfs/home/leo0511/Research/SSSP/exp/SENSE/FT/12-06_17-46_twcc_con50_all_SENSE_5e-05/ep_1_iter_13000_mae_22.914_mse_25.790_seq_MAE_23.620_WRAE_66.983_MIAE_1.319_MOAE_1.431.pth --GPU_ID 5\n",
      "python test_SENSE.py --model_path /nfs/home/leo0511/Research/SSSP/exp/SENSE/FT/12-06_17-46_twcc_con50_all_SENSE_5e-05/ep_1_iter_2000_mae_19.032_mse_28.125_seq_MAE_22.609_WRAE_46.446_MIAE_1.585_MOAE_1.674.pth --GPU_ID 5\n",
      "python test_SENSE.py --model_path /nfs/home/leo0511/Research/SSSP/exp/SENSE/FT/12-06_17-46_twcc_con50_all_SENSE_5e-05/ep_1_iter_4000_mae_15.173_mse_24.410_seq_MAE_36.695_WRAE_95.599_MIAE_2.161_MOAE_2.236.pth --GPU_ID 5\n",
      "python test_SENSE.py --model_path /nfs/home/leo0511/Research/SSSP/exp/SENSE/FT/12-06_17-46_twcc_con50_all_SENSE_5e-05/ep_1_iter_5000_mae_15.130_mse_23.104_seq_MAE_37.122_WRAE_89.663_MIAE_2.233_MOAE_2.271.pth --GPU_ID 5\n",
      "python test_SENSE.py --model_path /nfs/home/leo0511/Research/SSSP/exp/SENSE/FT/12-06_17-46_twcc_con50_all_SENSE_5e-05/ep_1_iter_6000_mae_18.417_mse_22.246_seq_MAE_25.097_WRAE_64.678_MIAE_1.369_MOAE_1.480.pth --GPU_ID 5\n",
      "python test_SENSE.py --model_path /nfs/home/leo0511/Research/SSSP/exp/SENSE/FT/12-06_17-46_twcc_con50_all_SENSE_5e-05/ep_1_iter_7000_mae_15.813_mse_20.858_seq_MAE_24.989_WRAE_60.096_MIAE_1.488_MOAE_1.581.pth --GPU_ID 5\n",
      "python test_SENSE.py --model_path /nfs/home/leo0511/Research/SSSP/exp/SENSE/FT/12-06_17-46_twcc_con50_all_SENSE_5e-05/ep_1_iter_9000_mae_16.633_mse_20.356_seq_MAE_22.267_WRAE_57.529_MIAE_1.430_MOAE_1.497.pth --GPU_ID 5\n",
      "python test_SENSE.py --model_path /nfs/home/leo0511/Research/SSSP/exp/SENSE/FT/12-06_17-46_twcc_con50_all_SENSE_5e-05/ep_2_iter_26000_mae_18.562_mse_20.252_seq_MAE_24.900_WRAE_66.542_MIAE_1.458_MOAE_1.457.pth --GPU_ID 5\n",
      "python test_SENSE.py --model_path /nfs/home/leo0511/Research/SSSP/exp/SENSE/FT/12-06_17-46_twcc_con50_all_SENSE_5e-05/ep_2_iter_27000_mae_25.338_mse_27.283_seq_MAE_27.726_WRAE_73.148_MIAE_1.327_MOAE_1.339.pth --GPU_ID 5\n",
      "python test_SENSE.py --model_path /nfs/home/leo0511/Research/SSSP/exp/SENSE/FT/12-06_17-46_twcc_con50_all_SENSE_5e-05/ep_2_iter_28000_mae_11.789_mse_13.440_seq_MAE_17.267_WRAE_42.780_MIAE_1.304_MOAE_1.371.pth --GPU_ID 5\n",
      "python test_SENSE.py --model_path /nfs/home/leo0511/Research/SSSP/exp/SENSE/FT/12-06_17-46_twcc_con50_all_SENSE_5e-05/ep_3_iter_32000_mae_22.694_mse_24.446_seq_MAE_24.955_WRAE_66.947_MIAE_1.286_MOAE_1.345.pth --GPU_ID 5\n",
      "python test_SENSE.py --model_path /nfs/home/leo0511/Research/SSSP/exp/SENSE/FT/12-06_17-46_twcc_con50_all_SENSE_5e-05/ep_3_iter_43000_mae_9.695_mse_11.367_seq_MAE_23.796_WRAE_57.915_MIAE_1.674_MOAE_1.674.pth --GPU_ID 5\n",
      "python test_SENSE.py --model_path /nfs/home/leo0511/Research/SSSP/exp/SENSE/FT/12-06_17-46_twcc_con50_all_SENSE_5e-05/ep_3_iter_46000_mae_11.209_mse_13.278_seq_MAE_15.786_WRAE_39.548_MIAE_1.323_MOAE_1.289.pth --GPU_ID 5\n",
      "python test_SENSE.py --model_path /nfs/home/leo0511/Research/SSSP/exp/SENSE/FT/12-06_17-46_twcc_con50_all_SENSE_5e-05/ep_4_iter_49000_mae_11.323_mse_13.624_seq_MAE_14.968_WRAE_36.068_MIAE_1.224_MOAE_1.294.pth --GPU_ID 5\n",
      "python test_SENSE.py --model_path /nfs/home/leo0511/Research/SSSP/exp/SENSE/FT/12-06_17-46_twcc_con50_all_SENSE_5e-05/ep_4_iter_58000_mae_9.312_mse_12.858_seq_MAE_15.183_WRAE_33.267_MIAE_1.227_MOAE_1.294.pth --GPU_ID 5\n",
      "python test_SENSE.py --model_path /nfs/home/leo0511/Research/SSSP/exp/SENSE/FT/12-06_17-46_twcc_con50_all_SENSE_5e-05/ep_5_iter_73000_mae_9.618_mse_11.922_seq_MAE_12.675_WRAE_31.157_MIAE_1.236_MOAE_1.268.pth --GPU_ID 5\n",
      "python test_SENSE.py --model_path /nfs/home/leo0511/Research/SSSP/exp/SENSE/FT/12-06_17-46_twcc_con50_all_SENSE_5e-05/ep_5_iter_78000_mae_8.350_mse_14.465_seq_MAE_13.871_WRAE_30.574_MIAE_1.283_MOAE_1.306.pth --GPU_ID 5\n",
      "python test_SENSE.py --model_path /nfs/home/leo0511/Research/SSSP/exp/SENSE/FT/12-06_17-46_twcc_con50_all_SENSE_5e-05/ep_6_iter_79000_mae_7.166_mse_10.879_seq_MAE_17.734_WRAE_42.586_MIAE_1.493_MOAE_1.544.pth --GPU_ID 5\n",
      "python test_SENSE.py --model_path /nfs/home/leo0511/Research/SSSP/exp/SENSE/FT/12-06_17-46_twcc_con50_all_SENSE_5e-05/ep_6_iter_82000_mae_11.003_mse_13.285_seq_MAE_13.925_WRAE_34.470_MIAE_1.189_MOAE_1.244.pth --GPU_ID 5\n",
      "python test_SENSE.py --model_path /nfs/home/leo0511/Research/SSSP/exp/SENSE/FT/12-06_17-46_twcc_con50_all_SENSE_5e-05/ep_6_iter_87000_mae_8.500_mse_10.772_seq_MAE_25.483_WRAE_53.930_MIAE_1.921_MOAE_1.872.pth --GPU_ID 5\n",
      "python test_SENSE.py --model_path /nfs/home/leo0511/Research/SSSP/exp/SENSE/FT/12-06_17-46_twcc_con50_all_SENSE_5e-05/ep_6_iter_88000_mae_11.100_mse_12.924_seq_MAE_14.250_WRAE_34.969_MIAE_1.223_MOAE_1.228.pth --GPU_ID 5\n",
      "python test_SENSE.py --model_path /nfs/home/leo0511/Research/SSSP/exp/SENSE/FT/12-06_17-46_twcc_con50_all_SENSE_5e-05/ep_6_iter_89000_mae_7.045_mse_9.347_seq_MAE_14.297_WRAE_35.269_MIAE_1.280_MOAE_1.316.pth --GPU_ID 5\n",
      "python test_SENSE.py --model_path /nfs/home/leo0511/Research/SSSP/exp/SENSE/FT/12-06_17-46_twcc_con50_all_SENSE_5e-05/ep_6_iter_93000_mae_6.751_mse_8.680_seq_MAE_13.556_WRAE_33.323_MIAE_1.293_MOAE_1.308.pth --GPU_ID 5\n",
      "python test_SENSE.py --model_path /nfs/home/leo0511/Research/SSSP/exp/SENSE/FT/12-06_17-46_twcc_con50_all_SENSE_5e-05/ep_7_iter_99000_mae_7.180_mse_11.101_seq_MAE_11.684_WRAE_24.788_MIAE_1.137_MOAE_1.196.pth --GPU_ID 5\n",
      "python test_SENSE.py --model_path /nfs/home/leo0511/Research/SSSP/exp/SENSE/FT/12-06_17-46_twcc_con50_all_SENSE_5e-05/ep_9_iter_131000_mae_7.033_mse_8.790_seq_MAE_10.375_WRAE_23.831_MIAE_1.161_MOAE_1.185.pth --GPU_ID 5\n",
      "python test_SENSE.py --model_path /nfs/home/leo0511/Research/SSSP/exp/SENSE/FT/12-06_17-46_twcc_con50_all_SENSE_5e-05/ep_9_iter_134000_mae_9.441_mse_11.283_seq_MAE_12.649_WRAE_27.530_MIAE_1.202_MOAE_1.183.pth --GPU_ID 5\n"
     ]
    }
   ],
   "source": [
    "import glob\n",
    "exp = \"12-06_17-46_twcc_con50_all_SENSE_5e-05\"\n",
    "gpu = 5\n",
    "\n",
    "files = sorted(glob.glob(f\"/nfs/home/leo0511/Research/SSSP/exp/SENSE/FT/{exp}/ep*\"))\n",
    "for file in files:\n",
    "    print(f\"python test_SENSE.py --model_path {file} --GPU_ID {gpu}\")"
   ]
  },
  {
   "cell_type": "code",
   "execution_count": 6,
   "metadata": {},
   "outputs": [],
   "source": [
    "import torch\n",
    "import argparse\n",
    "from importlib import import_module\n",
    "\n",
    "\n",
    "parser = argparse.ArgumentParser()\n",
    "parser.add_argument('--EXP_NAME', type=str, default='')\n",
    "\n",
    "parser.add_argument('--RESUME_PATH',type=str, default='')\n",
    "parser.add_argument('--PRETRAIN_PATH',type=str, default='')\n",
    "parser.add_argument('--FROZEN', default=False, action='store_true', help=\"frozen pretrained frontend weights\")\n",
    "\n",
    "\n",
    "parser.add_argument('--GPU_ID', type=str, default='0')\n",
    "parser.add_argument('--SEED', type=int, default=3035)\n",
    "parser.add_argument('--DATASET', type=str, default='HT21')\n",
    "parser.add_argument('--TASK', type=str, default='FT')\n",
    "parser.add_argument('--PRINT_FREQ', type=int, default=20)\n",
    "parser.add_argument('--SAVE_VIS_FREQ', type=int, default=500)\n",
    "parser.add_argument('--BACKBONE', type=str, default='vgg')\n",
    "\n",
    "\n",
    "parser.add_argument('--LR_MIN', type=float, default=1e-6)\n",
    "parser.add_argument('--LR_BASE', type=float, default=5e-5, help='density branch')\n",
    "parser.add_argument('--LR_THRE', type=float, default=1e-4, help='mask branch')\n",
    "parser.add_argument('--LR_DECAY', type=float, default=0.95)\n",
    "parser.add_argument('--WEIGHT_DECAY', type=float, default=1e-5)\n",
    "parser.add_argument('--WARMUP_EPOCH', type=int, default=3, help='number of epochs for warm up step in cosine annealing lr scheduler')\n",
    "parser.add_argument('--MAX_EPOCH', type=int, default=20)\n",
    "parser.add_argument('--WORKER', type=int, default=4)\n",
    "\n",
    "\n",
    "parser.add_argument('--CON_WEIGHT', type=float, default=0.5)\n",
    "parser.add_argument('--SCALE_WEIGHT', type=float, nargs='+', default=[2,0.1,0.01])\n",
    "parser.add_argument('--CNT_WEIGHT', type=float, default=10)\n",
    "parser.add_argument('--MASK_WEIGHT', type=float, default=1)\n",
    "parser.add_argument('--IO_WEIGHT', type=float, default=1)\n",
    "\n",
    "\n",
    "\n",
    "\n",
    "#_test or val\n",
    "parser.add_argument('--VAL_FREQ', type=int, default=1000)\n",
    "parser.add_argument('--VAL_START', type=int, default=1)\n",
    "parser.add_argument('--VAL_BATCH_SIZE', type=int, default=1)\n",
    "\n",
    "\n",
    "\n",
    "#_train\n",
    "parser.add_argument('--TRAIN_SIZE', type=int, nargs='+', default=[768,1024])\n",
    "parser.add_argument('--TRAIN_FRAME_INTERVALS', type=int, nargs='+', default=[40, 85])\n",
    "parser.add_argument('--TRAIN_BATCH_SIZE', type=int, default=2)\n",
    "parser.add_argument('--ROI_RADIUS', type=float, default=4.)\n",
    "parser.add_argument('--FEATURE_SCALE', type=float, default=1/4.)\n",
    "parser.add_argument('--GAUSSIAN_SIGMA', type=float, default=4)\n",
    "parser.add_argument('--CONF_BLOCK_SIZE', type=int, default=16)\n",
    "\n",
    "\n",
    "\n",
    "\n",
    "#_shift pretrain\n",
    "parser.add_argument('--WIN_OFFSET_RANGE', type=int, nargs='+', default=[100,350])\n",
    "parser.add_argument('--IMG_OFFSET_RANGE', type=int, nargs='+', default=[-100,100])\n",
    "\n",
    "\n",
    "parser.add_argument('--DEN_FACTOR', type=float, default=200.)\n",
    "parser.add_argument('--MEAN_STD', type=tuple, default=([0.485, 0.456, 0.406], [0.229, 0.224, 0.225]))\n",
    "\n",
    "# cfg = parser.parse_args()\n",
    "cfg = parser.parse_known_args()[0]\n",
    "\n",
    "\n",
    "# data_mode = cfg.DATASET\n",
    "# datasetting = import_module(f'datasets.setting.{data_mode}')\n",
    "# cfg_data = datasetting.cfg_data\n",
    "cfg_data = cfg\n",
    "\n"
   ]
  },
  {
   "cell_type": "code",
   "execution_count": 4,
   "metadata": {},
   "outputs": [
    {
     "name": "stdout",
     "output_type": "stream",
     "text": [
      "Number of parameter: 19.82M\n"
     ]
    }
   ],
   "source": [
    "import sys\n",
    "sys.path.append('..')\n",
    "from model.SMDCA import  SMDCANet\n",
    "\n",
    "model = SMDCANet(cfg, cfg_data)\n",
    "total = sum([param.nelement() for param in model.parameters()])\n",
    "print(\"Number of parameter: %.2fM\" % (total/1e6))"
   ]
  },
  {
   "cell_type": "code",
   "execution_count": 7,
   "metadata": {},
   "outputs": [
    {
     "name": "stdout",
     "output_type": "stream",
     "text": [
      "Number of parameter: 28.30M\n"
     ]
    }
   ],
   "source": [
    "import sys\n",
    "sys.path.append('../../../')\n",
    "\n",
    "from FMDC.model.video_crowd_count import  video_crowd_count\n",
    "sys.path.append('./')\n",
    "\n",
    "\n",
    "model = video_crowd_count(cfg, cfg_data)\n",
    "total = sum([param.nelement() for param in model.parameters()])\n",
    "print(\"Number of parameter: %.2fM\" % (total/1e6))"
   ]
  },
  {
   "cell_type": "code",
   "execution_count": 8,
   "metadata": {},
   "outputs": [
    {
     "name": "stdout",
     "output_type": "stream",
     "text": [
      "[INFO] Register count_convNd() for <class 'torch.nn.modules.conv.Conv2d'>.\n",
      "[INFO] Register count_normalization() for <class 'torch.nn.modules.batchnorm.BatchNorm2d'>.\n",
      "[INFO] Register zero_ops() for <class 'torch.nn.modules.activation.ReLU'>.\n",
      "[INFO] Register zero_ops() for <class 'torch.nn.modules.pooling.MaxPool2d'>.\n",
      "[INFO] Register zero_ops() for <class 'torch.nn.modules.container.Sequential'>.\n",
      "[INFO] Register count_convNd() for <class 'torch.nn.modules.conv.ConvTranspose2d'>.\n",
      "[INFO] Register count_normalization() for <class 'torch.nn.modules.instancenorm.InstanceNorm2d'>.\n",
      "[INFO] Register count_linear() for <class 'torch.nn.modules.linear.Linear'>.\n",
      "[INFO] Register count_normalization() for <class 'torch.nn.modules.normalization.LayerNorm'>.\n"
     ]
    },
    {
     "ename": "TypeError",
     "evalue": "video_crowd_count.forward() missing 2 required positional arguments: 'img_rgb' and 'target'",
     "output_type": "error",
     "traceback": [
      "\u001b[0;31m---------------------------------------------------------------------------\u001b[0m",
      "\u001b[0;31mTypeError\u001b[0m                                 Traceback (most recent call last)",
      "Cell \u001b[0;32mIn[8], line 4\u001b[0m\n\u001b[1;32m      2\u001b[0m \u001b[38;5;28;01mfrom\u001b[39;00m \u001b[38;5;21;01mthop\u001b[39;00m \u001b[38;5;28;01mimport\u001b[39;00m profile \n\u001b[1;32m      3\u001b[0m \u001b[38;5;28minput\u001b[39m \u001b[38;5;241m=\u001b[39m torch\u001b[38;5;241m.\u001b[39mrandn(\u001b[38;5;241m4\u001b[39m, \u001b[38;5;241m3\u001b[39m, \u001b[38;5;241m768\u001b[39m, \u001b[38;5;241m1024\u001b[39m)\n\u001b[0;32m----> 4\u001b[0m flops, params \u001b[38;5;241m=\u001b[39m \u001b[43mprofile\u001b[49m\u001b[43m(\u001b[49m\u001b[43mmodel\u001b[49m\u001b[43m,\u001b[49m\u001b[43m \u001b[49m\u001b[43minputs\u001b[49m\u001b[38;5;241;43m=\u001b[39;49m\u001b[43m(\u001b[49m\u001b[38;5;28;43minput\u001b[39;49m\u001b[43m,\u001b[49m\u001b[43m)\u001b[49m\u001b[43m)\u001b[49m\n\u001b[1;32m      5\u001b[0m \u001b[38;5;28mprint\u001b[39m(flops)\n\u001b[1;32m      6\u001b[0m \u001b[38;5;28mprint\u001b[39m(params)\n",
      "File \u001b[0;32m~/.local/lib/python3.10/site-packages/thop/profile.py:212\u001b[0m, in \u001b[0;36mprofile\u001b[0;34m(model, inputs, custom_ops, verbose, ret_layer_info, report_missing)\u001b[0m\n\u001b[1;32m    209\u001b[0m model\u001b[38;5;241m.\u001b[39mapply(add_hooks)\n\u001b[1;32m    211\u001b[0m \u001b[38;5;28;01mwith\u001b[39;00m torch\u001b[38;5;241m.\u001b[39mno_grad():\n\u001b[0;32m--> 212\u001b[0m     \u001b[43mmodel\u001b[49m\u001b[43m(\u001b[49m\u001b[38;5;241;43m*\u001b[39;49m\u001b[43minputs\u001b[49m\u001b[43m)\u001b[49m\n\u001b[1;32m    214\u001b[0m \u001b[38;5;28;01mdef\u001b[39;00m \u001b[38;5;21mdfs_count\u001b[39m(module: nn\u001b[38;5;241m.\u001b[39mModule, prefix\u001b[38;5;241m=\u001b[39m\u001b[38;5;124m\"\u001b[39m\u001b[38;5;130;01m\\t\u001b[39;00m\u001b[38;5;124m\"\u001b[39m) \u001b[38;5;241m-\u001b[39m\u001b[38;5;241m>\u001b[39m (\u001b[38;5;28mint\u001b[39m, \u001b[38;5;28mint\u001b[39m):\n\u001b[1;32m    215\u001b[0m     total_ops, total_params \u001b[38;5;241m=\u001b[39m module\u001b[38;5;241m.\u001b[39mtotal_ops\u001b[38;5;241m.\u001b[39mitem(), \u001b[38;5;241m0\u001b[39m\n",
      "File \u001b[0;32m/usr/local/lib/python3.10/dist-packages/torch/nn/modules/module.py:1505\u001b[0m, in \u001b[0;36mModule._wrapped_call_impl\u001b[0;34m(self, *args, **kwargs)\u001b[0m\n\u001b[1;32m   1503\u001b[0m     \u001b[38;5;28;01mreturn\u001b[39;00m \u001b[38;5;28mself\u001b[39m\u001b[38;5;241m.\u001b[39m_compiled_call_impl(\u001b[38;5;241m*\u001b[39margs, \u001b[38;5;241m*\u001b[39m\u001b[38;5;241m*\u001b[39mkwargs)  \u001b[38;5;66;03m# type: ignore[misc]\u001b[39;00m\n\u001b[1;32m   1504\u001b[0m \u001b[38;5;28;01melse\u001b[39;00m:\n\u001b[0;32m-> 1505\u001b[0m     \u001b[38;5;28;01mreturn\u001b[39;00m \u001b[38;5;28;43mself\u001b[39;49m\u001b[38;5;241;43m.\u001b[39;49m\u001b[43m_call_impl\u001b[49m\u001b[43m(\u001b[49m\u001b[38;5;241;43m*\u001b[39;49m\u001b[43margs\u001b[49m\u001b[43m,\u001b[49m\u001b[43m \u001b[49m\u001b[38;5;241;43m*\u001b[39;49m\u001b[38;5;241;43m*\u001b[39;49m\u001b[43mkwargs\u001b[49m\u001b[43m)\u001b[49m\n",
      "File \u001b[0;32m/usr/local/lib/python3.10/dist-packages/torch/nn/modules/module.py:1514\u001b[0m, in \u001b[0;36mModule._call_impl\u001b[0;34m(self, *args, **kwargs)\u001b[0m\n\u001b[1;32m   1509\u001b[0m \u001b[38;5;66;03m# If we don't have any hooks, we want to skip the rest of the logic in\u001b[39;00m\n\u001b[1;32m   1510\u001b[0m \u001b[38;5;66;03m# this function, and just call forward.\u001b[39;00m\n\u001b[1;32m   1511\u001b[0m \u001b[38;5;28;01mif\u001b[39;00m \u001b[38;5;129;01mnot\u001b[39;00m (\u001b[38;5;28mself\u001b[39m\u001b[38;5;241m.\u001b[39m_backward_hooks \u001b[38;5;129;01mor\u001b[39;00m \u001b[38;5;28mself\u001b[39m\u001b[38;5;241m.\u001b[39m_backward_pre_hooks \u001b[38;5;129;01mor\u001b[39;00m \u001b[38;5;28mself\u001b[39m\u001b[38;5;241m.\u001b[39m_forward_hooks \u001b[38;5;129;01mor\u001b[39;00m \u001b[38;5;28mself\u001b[39m\u001b[38;5;241m.\u001b[39m_forward_pre_hooks\n\u001b[1;32m   1512\u001b[0m         \u001b[38;5;129;01mor\u001b[39;00m _global_backward_pre_hooks \u001b[38;5;129;01mor\u001b[39;00m _global_backward_hooks\n\u001b[1;32m   1513\u001b[0m         \u001b[38;5;129;01mor\u001b[39;00m _global_forward_hooks \u001b[38;5;129;01mor\u001b[39;00m _global_forward_pre_hooks):\n\u001b[0;32m-> 1514\u001b[0m     \u001b[38;5;28;01mreturn\u001b[39;00m \u001b[43mforward_call\u001b[49m\u001b[43m(\u001b[49m\u001b[38;5;241;43m*\u001b[39;49m\u001b[43margs\u001b[49m\u001b[43m,\u001b[49m\u001b[43m \u001b[49m\u001b[38;5;241;43m*\u001b[39;49m\u001b[38;5;241;43m*\u001b[39;49m\u001b[43mkwargs\u001b[49m\u001b[43m)\u001b[49m\n\u001b[1;32m   1515\u001b[0m \u001b[38;5;66;03m# Do not call functions when jit is used\u001b[39;00m\n\u001b[1;32m   1516\u001b[0m full_backward_hooks, non_full_backward_hooks \u001b[38;5;241m=\u001b[39m [], []\n",
      "\u001b[0;31mTypeError\u001b[0m: video_crowd_count.forward() missing 2 required positional arguments: 'img_rgb' and 'target'"
     ]
    }
   ],
   "source": [
    "import thop\n",
    "from thop import profile \n",
    "input = torch.randn(4, 3, 768, 1024)\n",
    "flops, params = profile(model, inputs=(input,))\n",
    "print(flops)\n",
    "print(params)"
   ]
  },
  {
   "cell_type": "code",
   "execution_count": null,
   "metadata": {},
   "outputs": [],
   "source": []
  }
 ],
 "metadata": {
  "kernelspec": {
   "display_name": "research_env",
   "language": "python",
   "name": "python3"
  },
  "language_info": {
   "codemirror_mode": {
    "name": "ipython",
    "version": 3
   },
   "file_extension": ".py",
   "mimetype": "text/x-python",
   "name": "python",
   "nbconvert_exporter": "python",
   "pygments_lexer": "ipython3",
   "version": "3.10.12"
  }
 },
 "nbformat": 4,
 "nbformat_minor": 2
}
