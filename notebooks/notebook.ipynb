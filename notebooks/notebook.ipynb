{
 "cells": [
  {
   "cell_type": "code",
   "execution_count": 2,
   "metadata": {},
   "outputs": [
    {
     "name": "stdout",
     "output_type": "stream",
     "text": [
      "python test_CARLA.py --MODEL_PATH /home/leohuang0511/DutyMOFA/exp/CARLA/02-16_03-23_vgg__CARLA_1e-05_0.0001/ep_10_iter_16000_mae_23.644_mse_24.725_seq_MAE_10.052_seq_MSE_10.052_WRAE_4.487_MIAE_1.950_MOAE_1.660.pth --GPU_ID 0\n",
      "python test_CARLA.py --MODEL_PATH /home/leohuang0511/DutyMOFA/exp/CARLA/02-16_03-23_vgg__CARLA_1e-05_0.0001/ep_1_iter_1000_mae_489.693_mse_489.733_seq_MAE_5145.982_seq_MSE_5145.982_WRAE_2297.313_MIAE_244.971_MOAE_243.507.pth --GPU_ID 0\n",
      "python test_CARLA.py --MODEL_PATH /home/leohuang0511/DutyMOFA/exp/CARLA/02-16_03-23_vgg__CARLA_1e-05_0.0001/ep_2_iter_2000_mae_295.496_mse_295.540_seq_MAE_2775.578_seq_MSE_2775.578_WRAE_1239.097_MIAE_130.546_MOAE_128.938.pth --GPU_ID 0\n",
      "python test_CARLA.py --MODEL_PATH /home/leohuang0511/DutyMOFA/exp/CARLA/02-16_03-23_vgg__CARLA_1e-05_0.0001/ep_2_iter_3000_mae_205.493_mse_205.569_seq_MAE_1661.312_seq_MSE_1661.312_WRAE_741.657_MIAE_76.810_MOAE_75.081.pth --GPU_ID 0\n",
      "python test_CARLA.py --MODEL_PATH /home/leohuang0511/DutyMOFA/exp/CARLA/02-16_03-23_vgg__CARLA_1e-05_0.0001/ep_3_iter_4000_mae_154.026_mse_154.106_seq_MAE_1004.887_seq_MSE_1004.887_WRAE_448.610_MIAE_44.864_MOAE_43.250.pth --GPU_ID 0\n",
      "python test_CARLA.py --MODEL_PATH /home/leohuang0511/DutyMOFA/exp/CARLA/02-16_03-23_vgg__CARLA_1e-05_0.0001/ep_3_iter_5000_mae_105.004_mse_105.122_seq_MAE_622.766_seq_MSE_622.766_WRAE_278.021_MIAE_27.403_MOAE_25.485.pth --GPU_ID 0\n",
      "python test_CARLA.py --MODEL_PATH /home/leohuang0511/DutyMOFA/exp/CARLA/02-16_03-23_vgg__CARLA_1e-05_0.0001/ep_4_iter_6000_mae_47.951_mse_48.205_seq_MAE_335.737_seq_MSE_335.737_WRAE_149.883_MIAE_15.225_MOAE_13.516.pth --GPU_ID 0\n",
      "python test_CARLA.py --MODEL_PATH /home/leohuang0511/DutyMOFA/exp/CARLA/02-16_03-23_vgg__CARLA_1e-05_0.0001/ep_5_iter_7000_mae_26.712_mse_27.123_seq_MAE_234.158_seq_MSE_234.158_WRAE_104.535_MIAE_10.862_MOAE_9.151.pth --GPU_ID 0\n",
      "python test_CARLA.py --MODEL_PATH /home/leohuang0511/DutyMOFA/exp/CARLA/02-16_03-23_vgg__CARLA_1e-05_0.0001/ep_5_iter_8000_mae_4.896_mse_6.194_seq_MAE_153.752_seq_MSE_153.752_WRAE_68.639_MIAE_8.033_MOAE_6.909.pth --GPU_ID 0\n",
      "python test_CARLA.py --MODEL_PATH /home/leohuang0511/DutyMOFA/exp/CARLA/02-16_03-23_vgg__CARLA_1e-05_0.0001/ep_6_iter_10000_mae_5.479_mse_6.395_seq_MAE_84.660_seq_MSE_84.660_WRAE_37.795_MIAE_4.143_MOAE_2.986.pth --GPU_ID 0\n",
      "python test_CARLA.py --MODEL_PATH /home/leohuang0511/DutyMOFA/exp/CARLA/02-16_03-23_vgg__CARLA_1e-05_0.0001/ep_6_iter_9000_mae_9.025_mse_10.458_seq_MAE_111.684_seq_MSE_111.684_WRAE_49.859_MIAE_6.182_MOAE_5.238.pth --GPU_ID 0\n",
      "python test_CARLA.py --MODEL_PATH /home/leohuang0511/DutyMOFA/exp/CARLA/02-16_03-23_vgg__CARLA_1e-05_0.0001/ep_7_iter_11000_mae_7.142_mse_8.957_seq_MAE_62.577_seq_MSE_62.577_WRAE_27.936_MIAE_3.520_MOAE_2.610.pth --GPU_ID 0\n",
      "python test_CARLA.py --MODEL_PATH /home/leohuang0511/DutyMOFA/exp/CARLA/02-16_03-23_vgg__CARLA_1e-05_0.0001/ep_8_iter_12000_mae_16.283_mse_17.869_seq_MAE_11.051_seq_MSE_11.051_WRAE_4.934_MIAE_1.848_MOAE_1.942.pth --GPU_ID 0\n",
      "python test_CARLA.py --MODEL_PATH /home/leohuang0511/DutyMOFA/exp/CARLA/02-16_03-23_vgg__CARLA_1e-05_0.0001/ep_9_iter_14000_mae_13.935_mse_15.336_seq_MAE_9.380_seq_MSE_9.380_WRAE_4.188_MIAE_1.554_MOAE_1.777.pth --GPU_ID 0\n",
      "python test_CARLA.py --MODEL_PATH /home/leohuang0511/DutyMOFA/exp/CARLA/02-16_03-23_vgg__CARLA_1e-05_0.0001/ep_9_iter_15000_mae_14.894_mse_16.232_seq_MAE_21.606_seq_MSE_21.606_WRAE_9.645_MIAE_1.001_MOAE_2.132.pth --GPU_ID 0\n"
     ]
    }
   ],
   "source": [
    "import glob\n",
    "dataset = \"CARLA\"\n",
    "exp = \"02-16_03-23_vgg__CARLA_1e-05_0.0001\"\n",
    "device = \"TWCC\"\n",
    "gpu = 0\n",
    "\n",
    "if device == \"TWCC\":\n",
    "    gpu = 0\n",
    "\n",
    "    root = \"/home/leohuang0511\"\n",
    "else:\n",
    "    root = \"/nfs/home/leo0511/Research\"\n",
    "files = sorted(glob.glob(f\"{root}/DutyMOFA/exp/{dataset}/{exp}/ep*\"))\n",
    "for file in files:\n",
    "    print(f\"python test_{dataset}.py --MODEL_PATH {file} --GPU_ID {gpu}\")"
   ]
  },
  {
   "cell_type": "code",
   "execution_count": 1,
   "metadata": {},
   "outputs": [],
   "source": [
    "import torch\n",
    "import argparse\n",
    "from importlib import import_module\n",
    "\n",
    "\n",
    "parser = argparse.ArgumentParser()\n",
    "parser.add_argument('--EXP_NAME', type=str, default='')\n",
    "\n",
    "parser.add_argument('--RESUME_PATH',type=str, default='')\n",
    "parser.add_argument('--PRETRAIN_PATH',type=str, default='')\n",
    "parser.add_argument('--FROZEN', default=False, action='store_true', help=\"frozen pretrained frontend weights\")\n",
    "\n",
    "\n",
    "parser.add_argument('--GPU_ID', type=str, default='0')\n",
    "parser.add_argument('--SEED', type=int, default=3035)\n",
    "parser.add_argument('--DATASET', type=str, default='HT21')\n",
    "parser.add_argument('--TASK', type=str, default='FT')\n",
    "parser.add_argument('--PRINT_FREQ', type=int, default=20)\n",
    "parser.add_argument('--SAVE_VIS_FREQ', type=int, default=500)\n",
    "parser.add_argument('--BACKBONE', type=str, default='vgg')\n",
    "\n",
    "\n",
    "parser.add_argument('--LR_MIN', type=float, default=1e-6)\n",
    "parser.add_argument('--LR_BASE', type=float, default=5e-5, help='density branch')\n",
    "parser.add_argument('--LR_THRE', type=float, default=1e-4, help='mask branch')\n",
    "parser.add_argument('--LR_DECAY', type=float, default=0.95)\n",
    "parser.add_argument('--WEIGHT_DECAY', type=float, default=1e-5)\n",
    "parser.add_argument('--WARMUP_EPOCH', type=int, default=3, help='number of epochs for warm up step in cosine annealing lr scheduler')\n",
    "parser.add_argument('--MAX_EPOCH', type=int, default=20)\n",
    "parser.add_argument('--WORKER', type=int, default=4)\n",
    "\n",
    "\n",
    "parser.add_argument('--CON_WEIGHT', type=float, default=0.5)\n",
    "parser.add_argument('--SCALE_WEIGHT', type=float, nargs='+', default=[2,0.1,0.01])\n",
    "parser.add_argument('--CNT_WEIGHT', type=float, default=10)\n",
    "parser.add_argument('--MASK_WEIGHT', type=float, default=1)\n",
    "parser.add_argument('--IO_WEIGHT', type=float, default=1)\n",
    "\n",
    "\n",
    "\n",
    "\n",
    "#_test or val\n",
    "parser.add_argument('--VAL_FREQ', type=int, default=1000)\n",
    "parser.add_argument('--VAL_START', type=int, default=1)\n",
    "parser.add_argument('--VAL_BATCH_SIZE', type=int, default=1)\n",
    "\n",
    "\n",
    "\n",
    "#_train\n",
    "parser.add_argument('--TRAIN_SIZE', type=int, nargs='+', default=[768,1024])\n",
    "parser.add_argument('--TRAIN_FRAME_INTERVALS', type=int, nargs='+', default=[40, 85])\n",
    "parser.add_argument('--TRAIN_BATCH_SIZE', type=int, default=2)\n",
    "parser.add_argument('--ROI_RADIUS', type=float, default=4.)\n",
    "parser.add_argument('--FEATURE_SCALE', type=float, default=1/4.)\n",
    "parser.add_argument('--GAUSSIAN_SIGMA', type=float, default=4)\n",
    "parser.add_argument('--CONF_BLOCK_SIZE', type=int, default=16)\n",
    "\n",
    "\n",
    "\n",
    "\n",
    "#_shift pretrain\n",
    "parser.add_argument('--WIN_OFFSET_RANGE', type=int, nargs='+', default=[100,350])\n",
    "parser.add_argument('--IMG_OFFSET_RANGE', type=int, nargs='+', default=[-100,100])\n",
    "\n",
    "\n",
    "parser.add_argument('--DEN_FACTOR', type=float, default=200.)\n",
    "parser.add_argument('--MEAN_STD', type=tuple, default=([0.485, 0.456, 0.406], [0.229, 0.224, 0.225]))\n",
    "\n",
    "# cfg = parser.parse_args()\n",
    "cfg = parser.parse_known_args()[0]\n",
    "\n",
    "\n",
    "# data_mode = cfg.DATASET\n",
    "# datasetting = import_module(f'datasets.setting.{data_mode}')\n",
    "# cfg_data = datasetting.cfg_data\n",
    "cfg_data = cfg\n",
    "\n"
   ]
  },
  {
   "cell_type": "code",
   "execution_count": 10,
   "metadata": {},
   "outputs": [
    {
     "name": "stdout",
     "output_type": "stream",
     "text": [
      "Number of parameter: 0.16M\n"
     ]
    }
   ],
   "source": [
    "import sys\n",
    "sys.path.append('..')\n",
    "from model.SMDCA import  SMDCANet\n",
    "\n",
    "model = SMDCANet(cfg, cfg_data).Extractor.scale_loc_head\n",
    "total = sum([param.nelement() for param in model.parameters()])\n",
    "print(\"Number of parameter: %.2fM\" % (total/1e6))"
   ]
  },
  {
   "cell_type": "code",
   "execution_count": 5,
   "metadata": {},
   "outputs": [
    {
     "ename": "ModuleNotFoundError",
     "evalue": "No module named 'misc'",
     "output_type": "error",
     "traceback": [
      "\u001b[0;31m---------------------------------------------------------------------------\u001b[0m",
      "\u001b[0;31mModuleNotFoundError\u001b[0m                       Traceback (most recent call last)",
      "Cell \u001b[0;32mIn [5], line 4\u001b[0m\n\u001b[1;32m      1\u001b[0m \u001b[38;5;28;01mimport\u001b[39;00m \u001b[38;5;21;01msys\u001b[39;00m\n\u001b[1;32m      2\u001b[0m sys\u001b[38;5;241m.\u001b[39mpath\u001b[38;5;241m.\u001b[39mappend(\u001b[38;5;124m'\u001b[39m\u001b[38;5;124m../../../\u001b[39m\u001b[38;5;124m'\u001b[39m)\n\u001b[0;32m----> 4\u001b[0m \u001b[38;5;28;01mfrom\u001b[39;00m \u001b[38;5;21;01mFMDC\u001b[39;00m\u001b[38;5;21;01m.\u001b[39;00m\u001b[38;5;21;01mmodel\u001b[39;00m\u001b[38;5;21;01m.\u001b[39;00m\u001b[38;5;21;01mvideo_crowd_count\u001b[39;00m \u001b[38;5;28;01mimport\u001b[39;00m  video_crowd_count\n\u001b[1;32m      5\u001b[0m sys\u001b[38;5;241m.\u001b[39mpath\u001b[38;5;241m.\u001b[39mappend(\u001b[38;5;124m'\u001b[39m\u001b[38;5;124m./FMDC\u001b[39m\u001b[38;5;124m'\u001b[39m)\n\u001b[1;32m      8\u001b[0m model \u001b[38;5;241m=\u001b[39m video_crowd_count(cfg, cfg_data)\n",
      "File \u001b[0;32m~/Research/SSSP/src/notebooks/../../../FMDC/model/video_crowd_count.py:5\u001b[0m\n\u001b[1;32m      3\u001b[0m \u001b[38;5;28;01mimport\u001b[39;00m \u001b[38;5;21;01mtorch\u001b[39;00m\u001b[38;5;21;01m.\u001b[39;00m\u001b[38;5;21;01mnn\u001b[39;00m\u001b[38;5;21;01m.\u001b[39;00m\u001b[38;5;21;01mfunctional\u001b[39;00m \u001b[38;5;28;01mas\u001b[39;00m \u001b[38;5;21;01mF\u001b[39;00m\n\u001b[1;32m      4\u001b[0m \u001b[38;5;28;01mimport\u001b[39;00m \u001b[38;5;21;01mnumpy\u001b[39;00m \u001b[38;5;28;01mas\u001b[39;00m \u001b[38;5;21;01mnp\u001b[39;00m\n\u001b[0;32m----> 5\u001b[0m \u001b[38;5;28;01mfrom\u001b[39;00m \u001b[38;5;21;01m.\u001b[39;00m\u001b[38;5;21;01mVGG\u001b[39;00m\u001b[38;5;21;01m.\u001b[39;00m\u001b[38;5;21;01mVGG16_FPN\u001b[39;00m \u001b[38;5;28;01mimport\u001b[39;00m VGG16_FPN\n\u001b[1;32m      6\u001b[0m \u001b[38;5;28;01mfrom\u001b[39;00m \u001b[38;5;21;01m.\u001b[39;00m\u001b[38;5;21;01moptical_deformable_module\u001b[39;00m \u001b[38;5;28;01mimport\u001b[39;00m optical_deformable_alignment_module\n\u001b[1;32m      7\u001b[0m \u001b[38;5;28;01mfrom\u001b[39;00m \u001b[38;5;21;01m.\u001b[39;00m\u001b[38;5;21;01munimatch\u001b[39;00m \u001b[38;5;28;01mimport\u001b[39;00m UniMatch\n",
      "File \u001b[0;32m~/Research/SSSP/src/notebooks/../../../FMDC/model/VGG/VGG16_FPN.py:4\u001b[0m\n\u001b[1;32m      2\u001b[0m \u001b[38;5;28;01mimport\u001b[39;00m \u001b[38;5;21;01msys\u001b[39;00m\n\u001b[1;32m      3\u001b[0m \u001b[38;5;28;01mimport\u001b[39;00m \u001b[38;5;21;01mtorch\u001b[39;00m\u001b[38;5;21;01m.\u001b[39;00m\u001b[38;5;21;01mnn\u001b[39;00m\u001b[38;5;21;01m.\u001b[39;00m\u001b[38;5;21;01mfunctional\u001b[39;00m \u001b[38;5;28;01mas\u001b[39;00m \u001b[38;5;21;01mF\u001b[39;00m\n\u001b[0;32m----> 4\u001b[0m \u001b[38;5;28;01mfrom\u001b[39;00m \u001b[38;5;21;01mmisc\u001b[39;00m\u001b[38;5;21;01m.\u001b[39;00m\u001b[38;5;21;01mutils\u001b[39;00m \u001b[38;5;28;01mimport\u001b[39;00m \u001b[38;5;241m*\u001b[39m\n\u001b[1;32m      5\u001b[0m \u001b[38;5;28;01mfrom\u001b[39;00m \u001b[38;5;21;01mmisc\u001b[39;00m\u001b[38;5;21;01m.\u001b[39;00m\u001b[38;5;21;01mlayer\u001b[39;00m \u001b[38;5;28;01mimport\u001b[39;00m \u001b[38;5;241m*\u001b[39m\n\u001b[1;32m      6\u001b[0m \u001b[38;5;28;01mfrom\u001b[39;00m \u001b[38;5;21;01mtorchsummary\u001b[39;00m \u001b[38;5;28;01mimport\u001b[39;00m summary\n",
      "\u001b[0;31mModuleNotFoundError\u001b[0m: No module named 'misc'"
     ]
    }
   ],
   "source": [
    "import sys\n",
    "sys.path.append('../../../')\n",
    "\n",
    "from FMDC.model.video_crowd_count import  video_crowd_count\n",
    "sys.path.append('./FMDC')\n",
    "\n",
    "\n",
    "model = video_crowd_count(cfg, cfg_data)\n",
    "total = sum([param.nelement() for param in model.parameters()])\n",
    "print(\"Number of parameter: %.2fM\" % (total/1e6))"
   ]
  },
  {
   "cell_type": "code",
   "execution_count": 8,
   "metadata": {},
   "outputs": [
    {
     "name": "stdout",
     "output_type": "stream",
     "text": [
      "[INFO] Register count_convNd() for <class 'torch.nn.modules.conv.Conv2d'>.\n",
      "[INFO] Register count_normalization() for <class 'torch.nn.modules.batchnorm.BatchNorm2d'>.\n",
      "[INFO] Register zero_ops() for <class 'torch.nn.modules.activation.ReLU'>.\n",
      "[INFO] Register zero_ops() for <class 'torch.nn.modules.pooling.MaxPool2d'>.\n",
      "[INFO] Register zero_ops() for <class 'torch.nn.modules.container.Sequential'>.\n",
      "[INFO] Register count_convNd() for <class 'torch.nn.modules.conv.ConvTranspose2d'>.\n",
      "[INFO] Register count_normalization() for <class 'torch.nn.modules.instancenorm.InstanceNorm2d'>.\n",
      "[INFO] Register count_linear() for <class 'torch.nn.modules.linear.Linear'>.\n",
      "[INFO] Register count_normalization() for <class 'torch.nn.modules.normalization.LayerNorm'>.\n"
     ]
    },
    {
     "ename": "TypeError",
     "evalue": "video_crowd_count.forward() missing 2 required positional arguments: 'img_rgb' and 'target'",
     "output_type": "error",
     "traceback": [
      "\u001b[0;31m---------------------------------------------------------------------------\u001b[0m",
      "\u001b[0;31mTypeError\u001b[0m                                 Traceback (most recent call last)",
      "Cell \u001b[0;32mIn[8], line 4\u001b[0m\n\u001b[1;32m      2\u001b[0m \u001b[38;5;28;01mfrom\u001b[39;00m \u001b[38;5;21;01mthop\u001b[39;00m \u001b[38;5;28;01mimport\u001b[39;00m profile \n\u001b[1;32m      3\u001b[0m \u001b[38;5;28minput\u001b[39m \u001b[38;5;241m=\u001b[39m torch\u001b[38;5;241m.\u001b[39mrandn(\u001b[38;5;241m4\u001b[39m, \u001b[38;5;241m3\u001b[39m, \u001b[38;5;241m768\u001b[39m, \u001b[38;5;241m1024\u001b[39m)\n\u001b[0;32m----> 4\u001b[0m flops, params \u001b[38;5;241m=\u001b[39m \u001b[43mprofile\u001b[49m\u001b[43m(\u001b[49m\u001b[43mmodel\u001b[49m\u001b[43m,\u001b[49m\u001b[43m \u001b[49m\u001b[43minputs\u001b[49m\u001b[38;5;241;43m=\u001b[39;49m\u001b[43m(\u001b[49m\u001b[38;5;28;43minput\u001b[39;49m\u001b[43m,\u001b[49m\u001b[43m)\u001b[49m\u001b[43m)\u001b[49m\n\u001b[1;32m      5\u001b[0m \u001b[38;5;28mprint\u001b[39m(flops)\n\u001b[1;32m      6\u001b[0m \u001b[38;5;28mprint\u001b[39m(params)\n",
      "File \u001b[0;32m~/.local/lib/python3.10/site-packages/thop/profile.py:212\u001b[0m, in \u001b[0;36mprofile\u001b[0;34m(model, inputs, custom_ops, verbose, ret_layer_info, report_missing)\u001b[0m\n\u001b[1;32m    209\u001b[0m model\u001b[38;5;241m.\u001b[39mapply(add_hooks)\n\u001b[1;32m    211\u001b[0m \u001b[38;5;28;01mwith\u001b[39;00m torch\u001b[38;5;241m.\u001b[39mno_grad():\n\u001b[0;32m--> 212\u001b[0m     \u001b[43mmodel\u001b[49m\u001b[43m(\u001b[49m\u001b[38;5;241;43m*\u001b[39;49m\u001b[43minputs\u001b[49m\u001b[43m)\u001b[49m\n\u001b[1;32m    214\u001b[0m \u001b[38;5;28;01mdef\u001b[39;00m \u001b[38;5;21mdfs_count\u001b[39m(module: nn\u001b[38;5;241m.\u001b[39mModule, prefix\u001b[38;5;241m=\u001b[39m\u001b[38;5;124m\"\u001b[39m\u001b[38;5;130;01m\\t\u001b[39;00m\u001b[38;5;124m\"\u001b[39m) \u001b[38;5;241m-\u001b[39m\u001b[38;5;241m>\u001b[39m (\u001b[38;5;28mint\u001b[39m, \u001b[38;5;28mint\u001b[39m):\n\u001b[1;32m    215\u001b[0m     total_ops, total_params \u001b[38;5;241m=\u001b[39m module\u001b[38;5;241m.\u001b[39mtotal_ops\u001b[38;5;241m.\u001b[39mitem(), \u001b[38;5;241m0\u001b[39m\n",
      "File \u001b[0;32m/usr/local/lib/python3.10/dist-packages/torch/nn/modules/module.py:1505\u001b[0m, in \u001b[0;36mModule._wrapped_call_impl\u001b[0;34m(self, *args, **kwargs)\u001b[0m\n\u001b[1;32m   1503\u001b[0m     \u001b[38;5;28;01mreturn\u001b[39;00m \u001b[38;5;28mself\u001b[39m\u001b[38;5;241m.\u001b[39m_compiled_call_impl(\u001b[38;5;241m*\u001b[39margs, \u001b[38;5;241m*\u001b[39m\u001b[38;5;241m*\u001b[39mkwargs)  \u001b[38;5;66;03m# type: ignore[misc]\u001b[39;00m\n\u001b[1;32m   1504\u001b[0m \u001b[38;5;28;01melse\u001b[39;00m:\n\u001b[0;32m-> 1505\u001b[0m     \u001b[38;5;28;01mreturn\u001b[39;00m \u001b[38;5;28;43mself\u001b[39;49m\u001b[38;5;241;43m.\u001b[39;49m\u001b[43m_call_impl\u001b[49m\u001b[43m(\u001b[49m\u001b[38;5;241;43m*\u001b[39;49m\u001b[43margs\u001b[49m\u001b[43m,\u001b[49m\u001b[43m \u001b[49m\u001b[38;5;241;43m*\u001b[39;49m\u001b[38;5;241;43m*\u001b[39;49m\u001b[43mkwargs\u001b[49m\u001b[43m)\u001b[49m\n",
      "File \u001b[0;32m/usr/local/lib/python3.10/dist-packages/torch/nn/modules/module.py:1514\u001b[0m, in \u001b[0;36mModule._call_impl\u001b[0;34m(self, *args, **kwargs)\u001b[0m\n\u001b[1;32m   1509\u001b[0m \u001b[38;5;66;03m# If we don't have any hooks, we want to skip the rest of the logic in\u001b[39;00m\n\u001b[1;32m   1510\u001b[0m \u001b[38;5;66;03m# this function, and just call forward.\u001b[39;00m\n\u001b[1;32m   1511\u001b[0m \u001b[38;5;28;01mif\u001b[39;00m \u001b[38;5;129;01mnot\u001b[39;00m (\u001b[38;5;28mself\u001b[39m\u001b[38;5;241m.\u001b[39m_backward_hooks \u001b[38;5;129;01mor\u001b[39;00m \u001b[38;5;28mself\u001b[39m\u001b[38;5;241m.\u001b[39m_backward_pre_hooks \u001b[38;5;129;01mor\u001b[39;00m \u001b[38;5;28mself\u001b[39m\u001b[38;5;241m.\u001b[39m_forward_hooks \u001b[38;5;129;01mor\u001b[39;00m \u001b[38;5;28mself\u001b[39m\u001b[38;5;241m.\u001b[39m_forward_pre_hooks\n\u001b[1;32m   1512\u001b[0m         \u001b[38;5;129;01mor\u001b[39;00m _global_backward_pre_hooks \u001b[38;5;129;01mor\u001b[39;00m _global_backward_hooks\n\u001b[1;32m   1513\u001b[0m         \u001b[38;5;129;01mor\u001b[39;00m _global_forward_hooks \u001b[38;5;129;01mor\u001b[39;00m _global_forward_pre_hooks):\n\u001b[0;32m-> 1514\u001b[0m     \u001b[38;5;28;01mreturn\u001b[39;00m \u001b[43mforward_call\u001b[49m\u001b[43m(\u001b[49m\u001b[38;5;241;43m*\u001b[39;49m\u001b[43margs\u001b[49m\u001b[43m,\u001b[49m\u001b[43m \u001b[49m\u001b[38;5;241;43m*\u001b[39;49m\u001b[38;5;241;43m*\u001b[39;49m\u001b[43mkwargs\u001b[49m\u001b[43m)\u001b[49m\n\u001b[1;32m   1515\u001b[0m \u001b[38;5;66;03m# Do not call functions when jit is used\u001b[39;00m\n\u001b[1;32m   1516\u001b[0m full_backward_hooks, non_full_backward_hooks \u001b[38;5;241m=\u001b[39m [], []\n",
      "\u001b[0;31mTypeError\u001b[0m: video_crowd_count.forward() missing 2 required positional arguments: 'img_rgb' and 'target'"
     ]
    }
   ],
   "source": [
    "import thop\n",
    "from thop import profile \n",
    "input = torch.randn(4, 3, 768, 1024)\n",
    "flops, params = profile(model, inputs=(input,))\n",
    "print(flops)\n",
    "print(params)"
   ]
  },
  {
   "cell_type": "code",
   "execution_count": 24,
   "metadata": {},
   "outputs": [],
   "source": [
    "from torchvision import models\n",
    "import torch.nn as nn\n",
    "\n",
    "swin = models.swin_b(weights='Swin_B_Weights.IMAGENET1K_V1')\n",
    "features = list(swin.features.children())\n",
    "layer1 = nn.Sequential(*features[0:2])\n",
    "layer2 = nn.Sequential(*features[2:4])\n",
    "layer3 = nn.Sequential(*features[4:6])\n"
   ]
  },
  {
   "cell_type": "code",
   "execution_count": 26,
   "metadata": {},
   "outputs": [
    {
     "name": "stdout",
     "output_type": "stream",
     "text": [
      "torch.Size([4, 192, 256, 128])\n",
      "torch.Size([4, 96, 128, 256])\n",
      "torch.Size([4, 48, 64, 512])\n"
     ]
    }
   ],
   "source": [
    "import torch\n",
    "\n",
    "x  = torch.zeros((4,3,768,1024))\n",
    "x = layer1(x)\n",
    "print(x.shape)\n",
    "x = layer2(x)\n",
    "print(x.shape)\n",
    "x = layer3(x)\n",
    "print(x.shape)"
   ]
  },
  {
   "cell_type": "code",
   "execution_count": 19,
   "metadata": {},
   "outputs": [
    {
     "data": {
      "text/plain": [
       "8"
      ]
     },
     "execution_count": 19,
     "metadata": {},
     "output_type": "execute_result"
    }
   ],
   "source": [
    "len(features)"
   ]
  },
  {
   "cell_type": "code",
   "execution_count": null,
   "metadata": {},
   "outputs": [],
   "source": []
  }
 ],
 "metadata": {
  "kernelspec": {
   "display_name": "Python 3 (ipykernel)",
   "language": "python",
   "name": "python3"
  },
  "language_info": {
   "codemirror_mode": {
    "name": "ipython",
    "version": 3
   },
   "file_extension": ".py",
   "mimetype": "text/x-python",
   "name": "python",
   "nbconvert_exporter": "python",
   "pygments_lexer": "ipython3",
   "version": "3.10.12"
  }
 },
 "nbformat": 4,
 "nbformat_minor": 2
}
