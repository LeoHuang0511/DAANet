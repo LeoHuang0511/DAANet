{
 "cells": [
  {
   "cell_type": "code",
   "execution_count": 1,
   "metadata": {},
   "outputs": [
    {
     "name": "stdout",
     "output_type": "stream",
     "text": [
      "python test_HT21.py --model_path /nfs/home/leo0511/Research/People-Flows/exp/HT21/FT/09-30_18-53__con001_conScale1_intraLoss_HT21_5e-05/ep_5_iter_11000_mae_3.052_mse_3.716_seq_MAE_23.008_WRAE_35.397_MIAE_3.083_MOAE_5.008.pth --GPU_ID 5\n",
      "python test_HT21.py --model_path /nfs/home/leo0511/Research/People-Flows/exp/HT21/FT/09-30_18-53__con001_conScale1_intraLoss_HT21_5e-05/ep_10_iter_24000_mae_11.005_mse_11.698_seq_MAE_6.883_WRAE_10.588_MIAE_2.353_MOAE_4.266.pth --GPU_ID 5\n",
      "python test_HT21.py --model_path /nfs/home/leo0511/Research/People-Flows/exp/HT21/FT/09-30_18-53__con001_conScale1_intraLoss_HT21_5e-05/ep_17_iter_44000_mae_12.091_mse_12.646_seq_MAE_1.325_WRAE_2.039_MIAE_1.645_MOAE_3.939.pth --GPU_ID 5\n",
      "python test_HT21.py --model_path /nfs/home/leo0511/Research/People-Flows/exp/HT21/FT/09-30_18-53__con001_conScale1_intraLoss_HT21_5e-05/ep_10_iter_25000_mae_23.206_mse_23.506_seq_MAE_24.260_WRAE_37.322_MIAE_1.120_MOAE_1.703.pth --GPU_ID 5\n",
      "python test_HT21.py --model_path /nfs/home/leo0511/Research/People-Flows/exp/HT21/FT/09-30_18-53__con001_conScale1_intraLoss_HT21_5e-05/ep_6_iter_15000_mae_16.444_mse_17.236_seq_MAE_9.355_WRAE_14.392_MIAE_2.695_MOAE_4.765.pth --GPU_ID 5\n",
      "python test_HT21.py --model_path /nfs/home/leo0511/Research/People-Flows/exp/HT21/FT/09-30_18-53__con001_conScale1_intraLoss_HT21_5e-05/ep_14_iter_35000_mae_2.230_mse_2.613_seq_MAE_40.965_WRAE_63.024_MIAE_5.748_MOAE_7.740.pth --GPU_ID 5\n",
      "python test_HT21.py --model_path /nfs/home/leo0511/Research/People-Flows/exp/HT21/FT/09-30_18-53__con001_conScale1_intraLoss_HT21_5e-05/ep_9_iter_23000_mae_13.396_mse_14.121_seq_MAE_7.059_WRAE_10.860_MIAE_2.383_MOAE_4.385.pth --GPU_ID 5\n",
      "python test_HT21.py --model_path /nfs/home/leo0511/Research/People-Flows/exp/HT21/FT/09-30_18-53__con001_conScale1_intraLoss_HT21_5e-05/ep_8_iter_21000_mae_17.816_mse_18.326_seq_MAE_2.609_WRAE_4.014_MIAE_2.409_MOAE_3.802.pth --GPU_ID 5\n",
      "python test_HT21.py --model_path /nfs/home/leo0511/Research/People-Flows/exp/HT21/FT/09-30_18-53__con001_conScale1_intraLoss_HT21_5e-05/ep_6_iter_14000_mae_15.221_mse_15.865_seq_MAE_19.634_WRAE_30.205_MIAE_4.366_MOAE_6.211.pth --GPU_ID 5\n"
     ]
    }
   ],
   "source": [
    "import glob\n",
    "exp = \"09-30_18-53__con001_conScale1_intraLoss_HT21_5e-05\"\n",
    "gpu = 5\n",
    "\n",
    "files = glob.glob(f\"/nfs/home/leo0511/Research/People-Flows/exp/HT21/FT/{exp}/ep*\")\n",
    "for file in files:\n",
    "    print(f\"python test_HT21.py --model_path {file} --GPU_ID {gpu}\")"
   ]
  },
  {
   "cell_type": "code",
   "execution_count": 4,
   "metadata": {},
   "outputs": [
    {
     "name": "stdout",
     "output_type": "stream",
     "text": [
      "torch.Size([2, 3, 3, 3])\n",
      "tensor([[[1, 0, 0],\n",
      "         [1, 0, 2],\n",
      "         [0, 1, 1]],\n",
      "\n",
      "        [[1, 1, 0],\n",
      "         [1, 0, 2],\n",
      "         [0, 1, 0]]])\n",
      "tensor([[[[0., 1., 0.],\n",
      "          [0., 0., 0.],\n",
      "          [0., 1., 0.]],\n",
      "\n",
      "         [[1., 0., 0.],\n",
      "          [2., 0., 0.],\n",
      "          [0., 3., 2.]],\n",
      "\n",
      "         [[0., 1., 0.],\n",
      "          [0., 0., 4.],\n",
      "          [0., 1., 2.]]],\n",
      "\n",
      "\n",
      "        [[[0., 1., 0.],\n",
      "          [0., 0., 1.],\n",
      "          [0., 1., 2.]],\n",
      "\n",
      "         [[1., 2., 0.],\n",
      "          [2., 0., 0.],\n",
      "          [0., 3., 2.]],\n",
      "\n",
      "         [[0., 1., 0.],\n",
      "          [0., 0., 4.],\n",
      "          [0., 1., 2.]]]])\n",
      "tensor([[[[0., 1., 1.],\n",
      "          [0., 1., 0.],\n",
      "          [1., 0., 0.]],\n",
      "\n",
      "         [[1., 0., 0.],\n",
      "          [1., 0., 0.],\n",
      "          [0., 1., 1.]],\n",
      "\n",
      "         [[0., 0., 0.],\n",
      "          [0., 0., 1.],\n",
      "          [0., 0., 0.]]],\n",
      "\n",
      "\n",
      "        [[[0., 0., 1.],\n",
      "          [0., 1., 0.],\n",
      "          [1., 0., 1.]],\n",
      "\n",
      "         [[1., 1., 0.],\n",
      "          [1., 0., 0.],\n",
      "          [0., 1., 0.]],\n",
      "\n",
      "         [[0., 0., 0.],\n",
      "          [0., 0., 1.],\n",
      "          [0., 0., 0.]]]])\n"
     ]
    },
    {
     "ename": "ValueError",
     "evalue": "Expected input batch_size (2) to match target batch_size (1).",
     "output_type": "error",
     "traceback": [
      "\u001b[0;31m---------------------------------------------------------------------------\u001b[0m",
      "\u001b[0;31mValueError\u001b[0m                                Traceback (most recent call last)",
      "\u001b[1;32m/nfs/home/leo0511/Research/SSSP/src/notebooks/notebook.ipynb Cell 2\u001b[0m line \u001b[0;36m1\n\u001b[1;32m     <a href='vscode-notebook-cell://ssh-remote%2B140.113.86.103/nfs/home/leo0511/Research/SSSP/src/notebooks/notebook.ipynb#W1sdnNjb2RlLXJlbW90ZQ%3D%3D?line=11'>12</a>\u001b[0m \u001b[39mprint\u001b[39m(data3)\n\u001b[1;32m     <a href='vscode-notebook-cell://ssh-remote%2B140.113.86.103/nfs/home/leo0511/Research/SSSP/src/notebooks/notebook.ipynb#W1sdnNjb2RlLXJlbW90ZQ%3D%3D?line=13'>14</a>\u001b[0m \u001b[39m# print(F.softmax(data2,dim=1))\u001b[39;00m\n\u001b[1;32m     <a href='vscode-notebook-cell://ssh-remote%2B140.113.86.103/nfs/home/leo0511/Research/SSSP/src/notebooks/notebook.ipynb#W1sdnNjb2RlLXJlbW90ZQ%3D%3D?line=14'>15</a>\u001b[0m \n\u001b[1;32m     <a href='vscode-notebook-cell://ssh-remote%2B140.113.86.103/nfs/home/leo0511/Research/SSSP/src/notebooks/notebook.ipynb#W1sdnNjb2RlLXJlbW90ZQ%3D%3D?line=15'>16</a>\u001b[0m \n\u001b[1;32m     <a href='vscode-notebook-cell://ssh-remote%2B140.113.86.103/nfs/home/leo0511/Research/SSSP/src/notebooks/notebook.ipynb#W1sdnNjb2RlLXJlbW90ZQ%3D%3D?line=16'>17</a>\u001b[0m \u001b[39m# F.upsample_nearest(data1, scale_factor=2)\u001b[39;00m\n\u001b[0;32m---> <a href='vscode-notebook-cell://ssh-remote%2B140.113.86.103/nfs/home/leo0511/Research/SSSP/src/notebooks/notebook.ipynb#W1sdnNjb2RlLXJlbW90ZQ%3D%3D?line=17'>18</a>\u001b[0m F\u001b[39m.\u001b[39;49mcross_entropy(data2, data1,reduction\u001b[39m=\u001b[39;49m\u001b[39m'\u001b[39;49m\u001b[39mnone\u001b[39;49m\u001b[39m'\u001b[39;49m)\n",
      "File \u001b[0;32m~/Research/research_env/lib/python3.8/site-packages/torch/nn/functional.py:3026\u001b[0m, in \u001b[0;36mcross_entropy\u001b[0;34m(input, target, weight, size_average, ignore_index, reduce, reduction, label_smoothing)\u001b[0m\n\u001b[1;32m   3024\u001b[0m \u001b[39mif\u001b[39;00m size_average \u001b[39mis\u001b[39;00m \u001b[39mnot\u001b[39;00m \u001b[39mNone\u001b[39;00m \u001b[39mor\u001b[39;00m reduce \u001b[39mis\u001b[39;00m \u001b[39mnot\u001b[39;00m \u001b[39mNone\u001b[39;00m:\n\u001b[1;32m   3025\u001b[0m     reduction \u001b[39m=\u001b[39m _Reduction\u001b[39m.\u001b[39mlegacy_get_string(size_average, reduce)\n\u001b[0;32m-> 3026\u001b[0m \u001b[39mreturn\u001b[39;00m torch\u001b[39m.\u001b[39;49m_C\u001b[39m.\u001b[39;49m_nn\u001b[39m.\u001b[39;49mcross_entropy_loss(\u001b[39minput\u001b[39;49m, target, weight, _Reduction\u001b[39m.\u001b[39;49mget_enum(reduction), ignore_index, label_smoothing)\n",
      "\u001b[0;31mValueError\u001b[0m: Expected input batch_size (2) to match target batch_size (1)."
     ]
    }
   ],
   "source": [
    "import torch\n",
    "import torch.nn.functional as F\n",
    "import torch.nn as nn\n",
    "data1 = torch.tensor([[[0,1,0],[2,0,0],[0,1,2]]])\n",
    "data2 = torch.Tensor([[[[0,1,0],[0,0,0],[0,1,0]],[[1,0,0],[2,0,0],[0,3,2]],[[0,1,0],[0,0,4],[0,1,2]]],[[[0,1,0],[0,0,1],[0,1,2]],[[1,2,0],[2,0,0],[0,3,2]],[[0,1,0],[0,0,4],[0,1,2]]]])\n",
    "data3 = torch.zeros_like(data2).squeeze()\n",
    "print(data2.shape)                  \n",
    "print(torch.argmax(data2,dim=1))\n",
    "print(data2)\n",
    "for scale in range(data3.shape[1]):\n",
    "    data3[:,scale][torch.where(torch.argmax(data2,dim=1).squeeze()==scale)] = 1\n",
    "print(data3)\n",
    "\n",
    "# print(F.softmax(data2,dim=1))\n",
    "\n",
    "\n",
    "# F.upsample_nearest(data1, scale_factor=2)\n",
    "F.cross_entropy(data2, data1,reduction='none')\n"
   ]
  },
  {
   "cell_type": "code",
   "execution_count": 15,
   "metadata": {},
   "outputs": [
    {
     "data": {
      "text/plain": [
       "tensor([[[[0., 1., 0.],\n",
       "          [0., 0., 1.],\n",
       "          [0., 1., 2.]]],\n",
       "\n",
       "\n",
       "        [[[0., 1., 0.],\n",
       "          [0., 0., 1.],\n",
       "          [0., 1., 2.]]],\n",
       "\n",
       "\n",
       "        [[[0., 1., 0.],\n",
       "          [0., 0., 1.],\n",
       "          [0., 1., 2.]]]])"
      ]
     },
     "execution_count": 15,
     "metadata": {},
     "output_type": "execute_result"
    }
   ],
   "source": []
  },
  {
   "cell_type": "code",
   "execution_count": 26,
   "metadata": {},
   "outputs": [
    {
     "name": "stdout",
     "output_type": "stream",
     "text": [
      "tensor([0.8668, 0.0159, 0.1173])\n",
      "tensor([0.5095, 0.2289, 0.2616])\n"
     ]
    },
    {
     "name": "stderr",
     "output_type": "stream",
     "text": [
      "/tmp/ipykernel_1079881/1412361636.py:2: UserWarning: Implicit dimension choice for softmax has been deprecated. Change the call to include dim=X as an argument.\n",
      "  print(F.softmax(-a))\n",
      "/tmp/ipykernel_1079881/1412361636.py:3: UserWarning: Implicit dimension choice for softmax has been deprecated. Change the call to include dim=X as an argument.\n",
      "  print(F.softmax(1/a))\n"
     ]
    }
   ],
   "source": [
    "a = torch.Tensor([1,5,3])\n",
    "print(F.softmax(-a))\n",
    "print(F.softmax(1/a))\n",
    "\n"
   ]
  },
  {
   "cell_type": "code",
   "execution_count": 16,
   "metadata": {},
   "outputs": [
    {
     "data": {
      "image/png": "[encoded data removed]",
      "text/plain": [
       "<Figure size 640x480 with 1 Axes>"
      ]
     },
     "metadata": {},
     "output_type": "display_data"
    }
   ],
   "source": [
    "import matplotlib.pyplot as plt\n",
    "import numpy as np\n",
    "# data2 = np.reshape(LabelPred,[600,900])\n",
    "import torch.nn.functional as F\n",
    "import torch\n",
    "import cv2\n",
    "\n",
    "\n",
    "data1 = torch.zeros((1,3,10,10))\n",
    "data2 = torch.zeros((1,10,10)).long()\n",
    "data2[0,3:9,2:9] = 1\n",
    "data2[0,1:2,3:4] = 2\n",
    "\n",
    "F.cross_entropy(data1,data2)\n",
    "COLOR_MAP = [\n",
    "    [255, 0, 0],\n",
    "    [0, 0, 255],\n",
    "    [0, 255, 255],\n",
    "]\n",
    "COLOR_MAP = np.array(COLOR_MAP, dtype=\"uint8\")\n",
    "\n",
    "\n",
    "data2 = cv2.cvtColor(COLOR_MAP[np.array(data2)].squeeze(),cv2.COLOR_RGB2BGR)\n",
    "\n",
    "\n",
    "plt.imshow(data2)\n",
    "plt.show()"
   ]
  },
  {
   "cell_type": "code",
   "execution_count": 9,
   "metadata": {},
   "outputs": [
    {
     "data": {
      "text/plain": [
       "tensor([[[[0., 0., 0., 0., 0., 0., 0., 0., 0., 0.],\n",
       "          [0., 0., 0., 0., 0., 0., 0., 0., 0., 0.],\n",
       "          [0., 0., 0., 0., 0., 0., 0., 0., 0., 0.],\n",
       "          [0., 0., 0., 0., 0., 0., 0., 0., 0., 0.],\n",
       "          [0., 0., 0., 0., 0., 0., 0., 0., 0., 0.],\n",
       "          [0., 0., 0., 0., 0., 0., 0., 0., 0., 0.],\n",
       "          [0., 0., 0., 0., 0., 0., 0., 0., 0., 0.],\n",
       "          [0., 0., 0., 0., 0., 0., 0., 0., 0., 0.],\n",
       "          [0., 0., 0., 0., 0., 0., 0., 0., 0., 0.],\n",
       "          [0., 0., 0., 0., 0., 0., 0., 0., 0., 0.]],\n",
       "\n",
       "         [[0., 0., 0., 0., 0., 0., 0., 0., 0., 0.],\n",
       "          [0., 0., 0., 0., 0., 0., 0., 0., 0., 0.],\n",
       "          [0., 0., 0., 0., 0., 0., 0., 0., 0., 0.],\n",
       "          [0., 0., 0., 0., 0., 0., 0., 0., 0., 0.],\n",
       "          [0., 0., 0., 0., 0., 0., 0., 0., 0., 0.],\n",
       "          [0., 0., 0., 0., 0., 0., 0., 0., 0., 0.],\n",
       "          [0., 0., 0., 0., 0., 0., 0., 0., 0., 0.],\n",
       "          [0., 0., 0., 0., 0., 0., 0., 0., 0., 0.],\n",
       "          [0., 0., 0., 0., 0., 0., 0., 0., 0., 0.],\n",
       "          [0., 0., 0., 0., 0., 0., 0., 0., 0., 0.]]]])"
      ]
     },
     "execution_count": 9,
     "metadata": {},
     "output_type": "execute_result"
    }
   ],
   "source": [
    "data1"
   ]
  },
  {
   "cell_type": "code",
   "execution_count": null,
   "metadata": {},
   "outputs": [],
   "source": []
  }
 ],
 "metadata": {
  "kernelspec": {
   "display_name": "research_env",
   "language": "python",
   "name": "python3"
  },
  "language_info": {
   "codemirror_mode": {
    "name": "ipython",
    "version": 3
   },
   "file_extension": ".py",
   "mimetype": "text/x-python",
   "name": "python",
   "nbconvert_exporter": "python",
   "pygments_lexer": "ipython3",
   "version": "3.8.10"
  }
 },
 "nbformat": 4,
 "nbformat_minor": 2
}
