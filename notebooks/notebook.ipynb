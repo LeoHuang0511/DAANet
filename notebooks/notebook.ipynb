{
 "cells": [
  {
   "cell_type": "code",
   "execution_count": 1,
   "metadata": {},
   "outputs": [
    {
     "name": "stdout",
     "output_type": "stream",
     "text": [
      "python test_HT21.py --model_path /nfs/home/leo0511/Research/People-Flows/exp/HT21/FT/09-30_18-53__con001_conScale1_intraLoss_HT21_5e-05/ep_5_iter_11000_mae_3.052_mse_3.716_seq_MAE_23.008_WRAE_35.397_MIAE_3.083_MOAE_5.008.pth --GPU_ID 5\n",
      "python test_HT21.py --model_path /nfs/home/leo0511/Research/People-Flows/exp/HT21/FT/09-30_18-53__con001_conScale1_intraLoss_HT21_5e-05/ep_10_iter_24000_mae_11.005_mse_11.698_seq_MAE_6.883_WRAE_10.588_MIAE_2.353_MOAE_4.266.pth --GPU_ID 5\n",
      "python test_HT21.py --model_path /nfs/home/leo0511/Research/People-Flows/exp/HT21/FT/09-30_18-53__con001_conScale1_intraLoss_HT21_5e-05/ep_17_iter_44000_mae_12.091_mse_12.646_seq_MAE_1.325_WRAE_2.039_MIAE_1.645_MOAE_3.939.pth --GPU_ID 5\n",
      "python test_HT21.py --model_path /nfs/home/leo0511/Research/People-Flows/exp/HT21/FT/09-30_18-53__con001_conScale1_intraLoss_HT21_5e-05/ep_10_iter_25000_mae_23.206_mse_23.506_seq_MAE_24.260_WRAE_37.322_MIAE_1.120_MOAE_1.703.pth --GPU_ID 5\n",
      "python test_HT21.py --model_path /nfs/home/leo0511/Research/People-Flows/exp/HT21/FT/09-30_18-53__con001_conScale1_intraLoss_HT21_5e-05/ep_6_iter_15000_mae_16.444_mse_17.236_seq_MAE_9.355_WRAE_14.392_MIAE_2.695_MOAE_4.765.pth --GPU_ID 5\n",
      "python test_HT21.py --model_path /nfs/home/leo0511/Research/People-Flows/exp/HT21/FT/09-30_18-53__con001_conScale1_intraLoss_HT21_5e-05/ep_14_iter_35000_mae_2.230_mse_2.613_seq_MAE_40.965_WRAE_63.024_MIAE_5.748_MOAE_7.740.pth --GPU_ID 5\n",
      "python test_HT21.py --model_path /nfs/home/leo0511/Research/People-Flows/exp/HT21/FT/09-30_18-53__con001_conScale1_intraLoss_HT21_5e-05/ep_9_iter_23000_mae_13.396_mse_14.121_seq_MAE_7.059_WRAE_10.860_MIAE_2.383_MOAE_4.385.pth --GPU_ID 5\n",
      "python test_HT21.py --model_path /nfs/home/leo0511/Research/People-Flows/exp/HT21/FT/09-30_18-53__con001_conScale1_intraLoss_HT21_5e-05/ep_8_iter_21000_mae_17.816_mse_18.326_seq_MAE_2.609_WRAE_4.014_MIAE_2.409_MOAE_3.802.pth --GPU_ID 5\n",
      "python test_HT21.py --model_path /nfs/home/leo0511/Research/People-Flows/exp/HT21/FT/09-30_18-53__con001_conScale1_intraLoss_HT21_5e-05/ep_6_iter_14000_mae_15.221_mse_15.865_seq_MAE_19.634_WRAE_30.205_MIAE_4.366_MOAE_6.211.pth --GPU_ID 5\n"
     ]
    }
   ],
   "source": [
    "import glob\n",
    "exp = \"09-30_18-53__con001_conScale1_intraLoss_HT21_5e-05\"\n",
    "gpu = 5\n",
    "\n",
    "files = glob.glob(f\"/nfs/home/leo0511/Research/People-Flows/exp/HT21/FT/{exp}/ep*\")\n",
    "for file in files:\n",
    "    print(f\"python test_HT21.py --model_path {file} --GPU_ID {gpu}\")"
   ]
  },
  {
   "cell_type": "code",
   "execution_count": null,
   "metadata": {},
   "outputs": [],
   "source": []
  }
 ],
 "metadata": {
  "kernelspec": {
   "display_name": "research_env",
   "language": "python",
   "name": "python3"
  },
  "language_info": {
   "codemirror_mode": {
    "name": "ipython",
    "version": 3
   },
   "file_extension": ".py",
   "mimetype": "text/x-python",
   "name": "python",
   "nbconvert_exporter": "python",
   "pygments_lexer": "ipython3",
   "version": "3.8.10"
  }
 },
 "nbformat": 4,
 "nbformat_minor": 2
}
