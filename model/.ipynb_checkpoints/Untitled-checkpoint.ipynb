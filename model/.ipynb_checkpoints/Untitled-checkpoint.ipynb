{
 "cells": [
  {
   "cell_type": "code",
   "execution_count": null,
   "id": "5a3e7dd7",
   "metadata": {},
   "outputs": [],
   "source": [
    "import torch.nn as nn\n",
    "\n",
    "class SMDCANet(nn.Module):\n",
    "\n",
    "    def __init__(self,):\n",
    "        super(SMDCANet, self).__init__()\n",
    "        \n",
    "        self.confidence_predict_layer = nn.ModuleList()\n",
    "        for i in range(3):\n",
    "        \n",
    "            self.confidence_predict_layer.append(nn.Sequential(\n",
    "\n",
    "          \n",
    "            nn.Conv2d(192, 64, kernel_size=1, stride=1, padding=0),\n",
    "            # nn.Conv2d(128, 64, kernel_size=1, stride=1, padding=0),\n",
    "\n",
    "            nn.BatchNorm2d(64, momentum=BN_MOMENTUM),\n",
    "            nn.ReLU(inplace=True),\n",
    "\n",
    "            nn.Conv2d(64, 1, kernel_size=1, stride=1, padding=0),\n",
    "            nn.Sigmoid(),\n",
    "\n",
    "            ))\n",
    "        \n",
    "\n",
    "    \n",
    "    def forward(self, img):\n",
    "        return 0"
   ]
  }
 ],
 "metadata": {
  "kernelspec": {
   "display_name": "Python 3 (ipykernel)",
   "language": "python",
   "name": "python3"
  },
  "language_info": {
   "codemirror_mode": {
    "name": "ipython",
    "version": 3
   },
   "file_extension": ".py",
   "mimetype": "text/x-python",
   "name": "python",
   "nbconvert_exporter": "python",
   "pygments_lexer": "ipython3",
   "version": "3.10.12"
  }
 },
 "nbformat": 4,
 "nbformat_minor": 5
}
